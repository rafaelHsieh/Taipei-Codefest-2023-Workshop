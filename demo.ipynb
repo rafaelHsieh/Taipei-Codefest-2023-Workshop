{
 "cells": [
  {
   "cell_type": "markdown",
   "id": "92d48d54",
   "metadata": {},
   "source": [
    "# 空間資料處理 (geopandas) "
   ]
  },
  {
   "cell_type": "code",
   "execution_count": 1,
   "id": "af010274",
   "metadata": {},
   "outputs": [],
   "source": [
    "import geocoder\n",
    "import geopandas as gpd\n",
    "import json\n",
    "import pandas as pd\n",
    "from shapely.geometry import LineString, Point, Polygon\n",
    "\n",
    "from src.func import Preload"
   ]
  },
  {
   "cell_type": "markdown",
   "id": "31e42497",
   "metadata": {},
   "source": [
    "## Data structures\n",
    "\n",
    "GeoPandas implements two main data structures, a GeoSeries and a GeoDataFrame. These are subclasses of pandas.Series and pandas.DataFrame, respectively.\n",
    "\n",
    "GeoPandas has three basic classes of geometric objects (which are actually shapely objects):\n",
    "- Points / Multi-Points\n",
    "- Lines / Multi-Lines\n",
    "- Polygons / Multi-Polygons\n",
    "\n",
    "Note that all entries in a GeoSeries need not be of the same geometric type, although certain export operations will fail if this is not the case.\n"
   ]
  },
  {
   "cell_type": "markdown",
   "id": "6940abf4",
   "metadata": {},
   "source": [
    "### Read data"
   ]
  },
  {
   "cell_type": "code",
   "execution_count": 2,
   "id": "41a254b9",
   "metadata": {},
   "outputs": [
    {
     "data": {
      "text/html": [
       "<div>\n",
       "<style scoped>\n",
       "    .dataframe tbody tr th:only-of-type {\n",
       "        vertical-align: middle;\n",
       "    }\n",
       "\n",
       "    .dataframe tbody tr th {\n",
       "        vertical-align: top;\n",
       "    }\n",
       "\n",
       "    .dataframe thead th {\n",
       "        text-align: right;\n",
       "    }\n",
       "</style>\n",
       "<table border=\"1\" class=\"dataframe\">\n",
       "  <thead>\n",
       "    <tr style=\"text-align: right;\">\n",
       "      <th></th>\n",
       "      <th>機構類型</th>\n",
       "      <th>機構名稱</th>\n",
       "      <th>地址</th>\n",
       "      <th>電話</th>\n",
       "    </tr>\n",
       "  </thead>\n",
       "  <tbody>\n",
       "    <tr>\n",
       "      <th>0</th>\n",
       "      <td>身障社區長照機構(日間照顧)</td>\n",
       "      <td>士林失能身障日照中心</td>\n",
       "      <td>臺北市士林區後港街189號一樓</td>\n",
       "      <td>(02)28810272</td>\n",
       "    </tr>\n",
       "    <tr>\n",
       "      <th>1</th>\n",
       "      <td>身障社區長照機構(日間照顧)</td>\n",
       "      <td>臺北市中山身障社區式長照機構（日間照顧）</td>\n",
       "      <td>臺北市中山區長安西路5弄2號四樓</td>\n",
       "      <td>(02)25211032</td>\n",
       "    </tr>\n",
       "    <tr>\n",
       "      <th>2</th>\n",
       "      <td>身障社區長照機構(日間照顧)</td>\n",
       "      <td>臺北市民生身障社區式長照機構（日間照顧）</td>\n",
       "      <td>臺北市松山區民生東路五段163之1號七樓</td>\n",
       "      <td>(02)27609605</td>\n",
       "    </tr>\n",
       "    <tr>\n",
       "      <th>3</th>\n",
       "      <td>身障社區長照機構(日間照顧)</td>\n",
       "      <td>臺北市信義身障社區式長照機構（日間照顧）</td>\n",
       "      <td>臺北市信義區信義路五段15號五樓</td>\n",
       "      <td>(02)27229933</td>\n",
       "    </tr>\n",
       "  </tbody>\n",
       "</table>\n",
       "</div>"
      ],
      "text/plain": [
       "             機構類型                  機構名稱                    地址            電話\n",
       "0  身障社區長照機構(日間照顧)            士林失能身障日照中心       臺北市士林區後港街189號一樓  (02)28810272\n",
       "1  身障社區長照機構(日間照顧)  臺北市中山身障社區式長照機構（日間照顧）      臺北市中山區長安西路5弄2號四樓  (02)25211032\n",
       "2  身障社區長照機構(日間照顧)  臺北市民生身障社區式長照機構（日間照顧）  臺北市松山區民生東路五段163之1號七樓  (02)27609605\n",
       "3  身障社區長照機構(日間照顧)  臺北市信義身障社區式長照機構（日間照顧）      臺北市信義區信義路五段15號五樓  (02)27229933"
      ]
     },
     "execution_count": 2,
     "metadata": {},
     "output_type": "execute_result"
    }
   ],
   "source": [
    "# 身障社區長照機構\n",
    "long_term_care = pd.read_csv('Datasets/Raw/身障社區長照機構_2023-06-11.csv', encoding='big5')\n",
    "long_term_care"
   ]
  },
  {
   "cell_type": "markdown",
   "id": "34f50e2e",
   "metadata": {},
   "source": [
    "### Point"
   ]
  },
  {
   "cell_type": "markdown",
   "id": "cd086905",
   "metadata": {},
   "source": [
    "### address to coordinate\n",
    "\n",
    "Due to the fact that many open datasets only contain address information and lack latitude and longitude data, obtaining coordinates is essential for preprocessing the data and performing certain tasks. There are various methods available for converting addresses into latitude and longitude coordinates. In our case, we use the \"geocoder\" package to accomplish this, but you are free to choose your preferred method."
   ]
  },
  {
   "cell_type": "code",
   "execution_count": 3,
   "id": "5a47b467",
   "metadata": {
    "scrolled": true
   },
   "outputs": [
    {
     "data": {
      "text/plain": [
       "{'address': '台北市士林區前港里後港街189號, 11159',\n",
       " 'bbox': {'northeast': [25.089019988075, 121.521929970555],\n",
       "  'southwest': [25.087019988075, 121.519929970555]},\n",
       " 'confidence': 9,\n",
       " 'lat': 25.088019988074905,\n",
       " 'lng': 121.52092997055541,\n",
       " 'ok': True,\n",
       " 'quality': 'PointAddress',\n",
       " 'raw': {'name': '台北市士林區前港里後港街189號, 11159',\n",
       "  'extent': {'xmin': 121.519929970555,\n",
       "   'ymin': 25.087019988075,\n",
       "   'xmax': 121.521929970555,\n",
       "   'ymax': 25.089019988075},\n",
       "  'feature': {'geometry': {'x': 121.52092997055541, 'y': 25.088019988074905},\n",
       "   'attributes': {'Score': 98.67, 'Addr_Type': 'PointAddress'}}},\n",
       " 'score': 98.67,\n",
       " 'status': 'OK'}"
      ]
     },
     "execution_count": 3,
     "metadata": {},
     "output_type": "execute_result"
    }
   ],
   "source": [
    "addr_0 = long_term_care.loc[0, '地址']\n",
    "addr_0_info = geocoder.arcgis(addr_0)\n",
    "addr_0_info.json"
   ]
  },
  {
   "cell_type": "code",
   "execution_count": 4,
   "id": "9628796e",
   "metadata": {},
   "outputs": [],
   "source": [
    "# get lng and lat of addr_0\n",
    "addr_0_lng = addr_0_info.json['lng']\n",
    "addr_0_lat = addr_0_info.json['lat']"
   ]
  },
  {
   "cell_type": "code",
   "execution_count": 5,
   "id": "39b26392",
   "metadata": {},
   "outputs": [],
   "source": [
    "# get lng and lat of addr_1\n",
    "addr_1 = long_term_care.loc[1, '地址']\n",
    "addr_1_info = geocoder.arcgis(addr_1)\n",
    "addr_1_lng = addr_1_info.json['lng']\n",
    "addr_1_lat = addr_1_info.json['lat']"
   ]
  },
  {
   "cell_type": "code",
   "execution_count": 6,
   "id": "ff0c4b27",
   "metadata": {},
   "outputs": [
    {
     "name": "stdout",
     "output_type": "stream",
     "text": [
      "<class 'shapely.geometry.point.Point'>\n",
      "0.0\n",
      "(121.52092997055541, 25.088019988074905, 121.52092997055541, 25.088019988074905)\n",
      "Point\n",
      "True\n"
     ]
    }
   ],
   "source": [
    "# transfer string to Point\n",
    "point0 = Point(addr_0_lng, addr_0_lat)\n",
    "point1 = Point(addr_1_lng, addr_1_lat)\n",
    "\n",
    "# get info of point0\n",
    "print(type(point0))\n",
    "print(point0.area)\n",
    "print(point0.bounds) # minx, miny, maxx, maxy\n",
    "print(point0.geom_type)\n",
    "print(point0.is_valid)"
   ]
  },
  {
   "cell_type": "code",
   "execution_count": 7,
   "id": "096d9dfb",
   "metadata": {
    "scrolled": true
   },
   "outputs": [
    {
     "name": "stdout",
     "output_type": "stream",
     "text": [
      "0.03808041718070139\n",
      "0.0\n",
      "0.0\n",
      "0.03808041718070139\n"
     ]
    }
   ],
   "source": [
    "# get distance\n",
    "print(point0.distance(point1))\n",
    "print(point0.distance(point0))\n",
    "print(point1.distance(point1))\n",
    "\n",
    "print(((point0.x-point1.x)** 2 + (point0.y-point1.y)** 2)** (1/2))"
   ]
  },
  {
   "cell_type": "markdown",
   "id": "d30d3641",
   "metadata": {},
   "source": [
    "### buffer"
   ]
  },
  {
   "cell_type": "code",
   "execution_count": 8,
   "id": "418fbea5",
   "metadata": {},
   "outputs": [
    {
     "data": {
      "image/svg+xml": [
       "<svg xmlns=\"http://www.w3.org/2000/svg\" xmlns:xlink=\"http://www.w3.org/1999/xlink\" width=\"100.0\" height=\"100.0\" viewBox=\"120.44092997055542 24.008019988074906 2.1599999999999966 2.1599999999999966\" preserveAspectRatio=\"xMinYMin meet\"><g transform=\"matrix(1,0,0,-1,0,50.17603997614981)\"><path fill-rule=\"evenodd\" fill=\"#66cc99\" stroke=\"#555555\" stroke-width=\"0.04319999999999993\" opacity=\"0.6\" d=\"M 122.52092997055541,25.088019988074905 L 122.51611469722761,24.990002847745345 L 122.50171525095864,24.892929666058777 L 122.47787030628763,24.797735310820443 L 122.44480950306671,24.705336555709813 L 122.40285123490376,24.616623251248907 L 122.35239958285796,24.532449755055303 L 122.29394042391816,24.453626703911258 L 122.22803675174197,24.38091320688836 L 122.15532325471906,24.315009534712168 L 122.07650020357502,24.25655037577236 L 121.99232670738141,24.206098723726548 L 121.9036134029205,24.16414045556362 L 121.81121464780988,24.131079652342695 L 121.71602029257154,24.107234707671672 L 121.61894711088497,24.09283526140271 L 121.52092997055541,24.088019988074905 L 121.42291283022585,24.09283526140271 L 121.32583964853929,24.107234707671672 L 121.23064529330095,24.131079652342695 L 121.13824653819033,24.16414045556362 L 121.04953323372942,24.206098723726548 L 120.9653597375358,24.25655037577236 L 120.88653668639176,24.315009534712168 L 120.81382318936886,24.38091320688836 L 120.74791951719267,24.453626703911258 L 120.68946035825287,24.532449755055303 L 120.63900870620706,24.616623251248907 L 120.59705043804412,24.705336555709813 L 120.5639896348232,24.797735310820443 L 120.54014469015219,24.892929666058777 L 120.52574524388322,24.990002847745345 L 120.52092997055541,25.088019988074905 L 120.52574524388322,25.186037128404465 L 120.54014469015219,25.283110310091033 L 120.5639896348232,25.378304665329367 L 120.59705043804412,25.470703420439996 L 120.63900870620706,25.559416724900903 L 120.68946035825287,25.643590221094506 L 120.74791951719267,25.72241327223855 L 120.81382318936886,25.79512676926145 L 120.88653668639176,25.86103044143764 L 120.9653597375358,25.91948960037745 L 121.04953323372942,25.96994125242326 L 121.13824653819033,26.01189952058619 L 121.23064529330095,26.044960323807114 L 121.32583964853929,26.068805268478133 L 121.42291283022585,26.0832047147471 L 121.52092997055541,26.088019988074905 L 121.61894711088497,26.0832047147471 L 121.71602029257154,26.068805268478137 L 121.81121464780988,26.044960323807114 L 121.9036134029205,26.01189952058619 L 121.99232670738141,25.96994125242326 L 122.07650020357502,25.91948960037745 L 122.15532325471906,25.86103044143764 L 122.22803675174197,25.79512676926145 L 122.29394042391814,25.72241327223855 L 122.35239958285796,25.643590221094506 L 122.40285123490376,25.559416724900903 L 122.44480950306671,25.470703420439996 L 122.47787030628763,25.378304665329367 L 122.50171525095864,25.283110310091033 L 122.51611469722761,25.186037128404465 L 122.52092997055541,25.088019988074905 z\" /></g></svg>"
      ],
      "text/plain": [
       "<POLYGON ((122.521 25.088, 122.516 24.99, 122.502 24.893, 122.478 24.798, 12...>"
      ]
     },
     "execution_count": 8,
     "metadata": {},
     "output_type": "execute_result"
    }
   ],
   "source": [
    "point0.buffer(1)"
   ]
  },
  {
   "cell_type": "code",
   "execution_count": 9,
   "id": "19163791",
   "metadata": {},
   "outputs": [
    {
     "data": {
      "text/plain": [
       "3.13654849054594"
      ]
     },
     "execution_count": 9,
     "metadata": {},
     "output_type": "execute_result"
    }
   ],
   "source": [
    "point0.buffer(1).area"
   ]
  },
  {
   "cell_type": "code",
   "execution_count": 10,
   "id": "d88457b4",
   "metadata": {},
   "outputs": [
    {
     "data": {
      "image/svg+xml": [
       "<svg xmlns=\"http://www.w3.org/2000/svg\" xmlns:xlink=\"http://www.w3.org/1999/xlink\" width=\"100.0\" height=\"100.0\" viewBox=\"120.44092997055542 24.008019988074906 2.1599999999999966 2.1599999999999966\" preserveAspectRatio=\"xMinYMin meet\"><g transform=\"matrix(1,0,0,-1,0,50.17603997614981)\"><path fill-rule=\"evenodd\" fill=\"#66cc99\" stroke=\"#555555\" stroke-width=\"0.04319999999999993\" opacity=\"0.6\" d=\"M 122.52092997055541,25.088019988074905 L 121.52092997055541,24.088019988074905 L 120.52092997055541,25.088019988074905 L 121.52092997055541,26.088019988074905 L 122.52092997055541,25.088019988074905 z\" /></g></svg>"
      ],
      "text/plain": [
       "<POLYGON ((122.521 25.088, 121.521 24.088, 120.521 25.088, 121.521 26.088, 1...>"
      ]
     },
     "execution_count": 10,
     "metadata": {},
     "output_type": "execute_result"
    }
   ],
   "source": [
    "point0.buffer(1, resolution=1)"
   ]
  },
  {
   "cell_type": "code",
   "execution_count": 11,
   "id": "703f08c2",
   "metadata": {},
   "outputs": [
    {
     "data": {
      "text/plain": [
       "2.0"
      ]
     },
     "execution_count": 11,
     "metadata": {},
     "output_type": "execute_result"
    }
   ],
   "source": [
    "point0.buffer(1, resolution=1).area"
   ]
  },
  {
   "cell_type": "code",
   "execution_count": 12,
   "id": "7bba6ab4",
   "metadata": {},
   "outputs": [
    {
     "data": {
      "image/svg+xml": [
       "<svg xmlns=\"http://www.w3.org/2000/svg\" xmlns:xlink=\"http://www.w3.org/1999/xlink\" width=\"100.0\" height=\"100.0\" viewBox=\"120.44092997055542 24.008019988074906 2.1599999999999966 2.1599999999999966\" preserveAspectRatio=\"xMinYMin meet\"><g transform=\"matrix(1,0,0,-1,0,50.17603997614981)\"><path fill-rule=\"evenodd\" fill=\"#66cc99\" stroke=\"#555555\" stroke-width=\"0.04319999999999993\" opacity=\"0.6\" d=\"M 122.52092997055541,25.088019988074905 L 122.22803675174197,24.38091320688836 L 121.52092997055541,24.088019988074905 L 120.81382318936886,24.38091320688836 L 120.52092997055541,25.088019988074905 L 120.81382318936886,25.79512676926145 L 121.52092997055541,26.088019988074905 L 122.22803675174197,25.79512676926145 L 122.52092997055541,25.088019988074905 z\" /></g></svg>"
      ],
      "text/plain": [
       "<POLYGON ((122.521 25.088, 122.228 24.381, 121.521 24.088, 120.814 24.381, 1...>"
      ]
     },
     "execution_count": 12,
     "metadata": {},
     "output_type": "execute_result"
    }
   ],
   "source": [
    "point0.buffer(1, resolution=2)"
   ]
  },
  {
   "cell_type": "code",
   "execution_count": 13,
   "id": "2e0f7cf6",
   "metadata": {},
   "outputs": [
    {
     "name": "stdout",
     "output_type": "stream",
     "text": [
      "2.0\n",
      "3.1286893008046204\n",
      "3.1414634623641327\n",
      "3.1415913616617597\n",
      "3.141592640670475\n",
      "3.141592653460551\n",
      "3.1415926535884457\n",
      "3.1415926535895258\n"
     ]
    }
   ],
   "source": [
    "res_list = [10** x for x in range(8)]\n",
    "for res in res_list:\n",
    "    print(point0.buffer(1, resolution=res).area)"
   ]
  },
  {
   "cell_type": "markdown",
   "id": "85f8ed5c",
   "metadata": {},
   "source": [
    "### LineString"
   ]
  },
  {
   "cell_type": "code",
   "execution_count": 14,
   "id": "aebb612a",
   "metadata": {},
   "outputs": [],
   "source": [
    "first_line_string = LineString([point0, point1])"
   ]
  },
  {
   "cell_type": "code",
   "execution_count": 15,
   "id": "c734c911",
   "metadata": {},
   "outputs": [
    {
     "data": {
      "image/svg+xml": [
       "<svg xmlns=\"http://www.w3.org/2000/svg\" xmlns:xlink=\"http://www.w3.org/1999/xlink\" width=\"100.0\" height=\"100.0\" viewBox=\"121.51922681141609 25.04841679644231 0.003226358817499886 0.041126391310768895\" preserveAspectRatio=\"xMinYMin meet\"><g transform=\"matrix(1,0,0,-1,0,50.13795998419539)\"><polyline fill=\"none\" stroke=\"#66cc99\" stroke-width=\"0.0008225278262153779\" points=\"121.52092997055541,25.088019988074905 121.52075001109426,25.049939996120486\" opacity=\"0.8\" /></g></svg>"
      ],
      "text/plain": [
       "<LINESTRING (121.521 25.088, 121.521 25.05)>"
      ]
     },
     "execution_count": 15,
     "metadata": {},
     "output_type": "execute_result"
    }
   ],
   "source": [
    "first_line_string"
   ]
  },
  {
   "cell_type": "code",
   "execution_count": 16,
   "id": "81b56e55",
   "metadata": {},
   "outputs": [
    {
     "name": "stdout",
     "output_type": "stream",
     "text": [
      "121.52092997055541\n",
      "25.088019988074905\n",
      "- - - - - - - - - - \n",
      "121.52075001109426\n",
      "25.049939996120486\n"
     ]
    }
   ],
   "source": [
    "print(point0.x)\n",
    "print(point0.y)\n",
    "print('- '* 10)\n",
    "print(point1.x)\n",
    "print(point1.y)"
   ]
  },
  {
   "cell_type": "code",
   "execution_count": 17,
   "id": "7072f384",
   "metadata": {},
   "outputs": [
    {
     "name": "stdout",
     "output_type": "stream",
     "text": [
      "(array('d', [121.52092997055541, 121.52075001109426]), array('d', [25.088019988074905, 25.049939996120486]))\n",
      "<class 'shapely.geometry.linestring.LineString'>\n",
      "0.0\n",
      "(121.52075001109426, 25.049939996120486, 121.52092997055541, 25.088019988074905)\n",
      "LineString\n",
      "True\n",
      "0.03808041718070139\n",
      "POINT (121.52083999082485 25.068979992097695)\n"
     ]
    }
   ],
   "source": [
    "# get info of point0\n",
    "print(first_line_string.xy)\n",
    "print(type(first_line_string))\n",
    "print(first_line_string.area)\n",
    "print(first_line_string.bounds) # minx, miny, maxx, maxy\n",
    "print(first_line_string.geom_type)\n",
    "print(first_line_string.is_valid)\n",
    "print(first_line_string.length)\n",
    "print(first_line_string.centroid)"
   ]
  },
  {
   "cell_type": "markdown",
   "id": "121fd1e1",
   "metadata": {},
   "source": [
    "### Polygon"
   ]
  },
  {
   "cell_type": "code",
   "execution_count": 18,
   "id": "7455454f",
   "metadata": {},
   "outputs": [],
   "source": [
    "# get lat and lng of addr_2\n",
    "addr_2 = long_term_care.loc[2, '地址']\n",
    "addr_2_info = geocoder.arcgis(addr_2)\n",
    "addr_2_lng = addr_2_info.json['lng']\n",
    "addr_2_lat = addr_2_info.json['lat']\n",
    "point2 = Point(addr_2_lng, addr_2_lat)"
   ]
  },
  {
   "cell_type": "code",
   "execution_count": 19,
   "id": "a3e3c766",
   "metadata": {},
   "outputs": [
    {
     "data": {
      "image/svg+xml": [
       "<svg xmlns=\"http://www.w3.org/2000/svg\" xmlns:xlink=\"http://www.w3.org/1999/xlink\" width=\"100.0\" height=\"100.0\" viewBox=\"121.51907681222963 25.04826679725584 0.04517636934536995 0.04142638968370704\" preserveAspectRatio=\"xMinYMin meet\"><g transform=\"matrix(1,0,0,-1,0,50.13795998419539)\"><path fill-rule=\"evenodd\" fill=\"#66cc99\" stroke=\"#555555\" stroke-width=\"0.000903527386907399\" opacity=\"0.6\" d=\"M 121.52092997055541,25.088019988074905 L 121.52075001109426,25.049939996120486 L 121.56257998271036,25.05906000968956 L 121.52092997055541,25.088019988074905 z\" /></g></svg>"
      ],
      "text/plain": [
       "<POLYGON ((121.521 25.088, 121.521 25.05, 121.563 25.059, 121.521 25.088))>"
      ]
     },
     "execution_count": 19,
     "metadata": {},
     "output_type": "execute_result"
    }
   ],
   "source": [
    "first_polygon = Polygon((point0, point1, point2))\n",
    "first_polygon"
   ]
  },
  {
   "cell_type": "markdown",
   "id": "6d96d832",
   "metadata": {},
   "source": [
    "## GeoSeries"
   ]
  },
  {
   "cell_type": "code",
   "execution_count": 20,
   "id": "79c696c8",
   "metadata": {},
   "outputs": [],
   "source": [
    "# define a geoseries\n",
    "s = gpd.GeoSeries(\n",
    "    [\n",
    "        Polygon([(0, 0), (0, 1), (1, 1), (1, 0)]),\n",
    "        Polygon([(10, 0), (10, 5), (0, 0)]),\n",
    "        Polygon([(0, 0), (2, 2), (2, 0)]),\n",
    "        LineString([(0, 0), (1, 1), (0, 1)]),\n",
    "        Point(0, 1)\n",
    "    ]\n",
    ")"
   ]
  },
  {
   "cell_type": "code",
   "execution_count": 21,
   "id": "8503a272",
   "metadata": {},
   "outputs": [
    {
     "data": {
      "text/plain": [
       "0     4.000000\n",
       "1    26.180340\n",
       "2     6.828427\n",
       "3     2.414214\n",
       "4     0.000000\n",
       "dtype: float64"
      ]
     },
     "execution_count": 21,
     "metadata": {},
     "output_type": "execute_result"
    }
   ],
   "source": [
    "s.length"
   ]
  },
  {
   "cell_type": "code",
   "execution_count": 22,
   "id": "61812e2a",
   "metadata": {},
   "outputs": [
    {
     "data": {
      "text/plain": [
       "0     1.0\n",
       "1    25.0\n",
       "2     2.0\n",
       "3     0.0\n",
       "4     0.0\n",
       "dtype: float64"
      ]
     },
     "execution_count": 22,
     "metadata": {},
     "output_type": "execute_result"
    }
   ],
   "source": [
    "s.area"
   ]
  },
  {
   "cell_type": "code",
   "execution_count": 23,
   "id": "cb11adc2",
   "metadata": {},
   "outputs": [
    {
     "data": {
      "text/html": [
       "<div>\n",
       "<style scoped>\n",
       "    .dataframe tbody tr th:only-of-type {\n",
       "        vertical-align: middle;\n",
       "    }\n",
       "\n",
       "    .dataframe tbody tr th {\n",
       "        vertical-align: top;\n",
       "    }\n",
       "\n",
       "    .dataframe thead th {\n",
       "        text-align: right;\n",
       "    }\n",
       "</style>\n",
       "<table border=\"1\" class=\"dataframe\">\n",
       "  <thead>\n",
       "    <tr style=\"text-align: right;\">\n",
       "      <th></th>\n",
       "      <th>minx</th>\n",
       "      <th>miny</th>\n",
       "      <th>maxx</th>\n",
       "      <th>maxy</th>\n",
       "    </tr>\n",
       "  </thead>\n",
       "  <tbody>\n",
       "    <tr>\n",
       "      <th>0</th>\n",
       "      <td>0.0</td>\n",
       "      <td>0.0</td>\n",
       "      <td>1.0</td>\n",
       "      <td>1.0</td>\n",
       "    </tr>\n",
       "    <tr>\n",
       "      <th>1</th>\n",
       "      <td>0.0</td>\n",
       "      <td>0.0</td>\n",
       "      <td>10.0</td>\n",
       "      <td>5.0</td>\n",
       "    </tr>\n",
       "    <tr>\n",
       "      <th>2</th>\n",
       "      <td>0.0</td>\n",
       "      <td>0.0</td>\n",
       "      <td>2.0</td>\n",
       "      <td>2.0</td>\n",
       "    </tr>\n",
       "    <tr>\n",
       "      <th>3</th>\n",
       "      <td>0.0</td>\n",
       "      <td>0.0</td>\n",
       "      <td>1.0</td>\n",
       "      <td>1.0</td>\n",
       "    </tr>\n",
       "    <tr>\n",
       "      <th>4</th>\n",
       "      <td>0.0</td>\n",
       "      <td>1.0</td>\n",
       "      <td>0.0</td>\n",
       "      <td>1.0</td>\n",
       "    </tr>\n",
       "  </tbody>\n",
       "</table>\n",
       "</div>"
      ],
      "text/plain": [
       "   minx  miny  maxx  maxy\n",
       "0   0.0   0.0   1.0   1.0\n",
       "1   0.0   0.0  10.0   5.0\n",
       "2   0.0   0.0   2.0   2.0\n",
       "3   0.0   0.0   1.0   1.0\n",
       "4   0.0   1.0   0.0   1.0"
      ]
     },
     "execution_count": 23,
     "metadata": {},
     "output_type": "execute_result"
    }
   ],
   "source": [
    "s.bounds"
   ]
  },
  {
   "cell_type": "code",
   "execution_count": 24,
   "id": "a0bb3d3c",
   "metadata": {},
   "outputs": [
    {
     "data": {
      "text/plain": [
       "0    LINESTRING (0.00000 0.00000, 0.00000 1.00000, ...\n",
       "1    LINESTRING (10.00000 0.00000, 10.00000 5.00000...\n",
       "2    LINESTRING (0.00000 0.00000, 2.00000 2.00000, ...\n",
       "3        MULTIPOINT (0.00000 0.00000, 0.00000 1.00000)\n",
       "4                             GEOMETRYCOLLECTION EMPTY\n",
       "dtype: geometry"
      ]
     },
     "execution_count": 24,
     "metadata": {},
     "output_type": "execute_result"
    }
   ],
   "source": [
    "s.boundary"
   ]
  },
  {
   "cell_type": "code",
   "execution_count": 25,
   "id": "49ad0076",
   "metadata": {},
   "outputs": [
    {
     "data": {
      "text/plain": [
       "array([ 0.,  0., 10.,  5.])"
      ]
     },
     "execution_count": 25,
     "metadata": {},
     "output_type": "execute_result"
    }
   ],
   "source": [
    "s.total_bounds"
   ]
  },
  {
   "cell_type": "code",
   "execution_count": 26,
   "id": "3d7d34e9",
   "metadata": {},
   "outputs": [
    {
     "data": {
      "text/plain": [
       "0       Polygon\n",
       "1       Polygon\n",
       "2       Polygon\n",
       "3    LineString\n",
       "4         Point\n",
       "dtype: object"
      ]
     },
     "execution_count": 26,
     "metadata": {},
     "output_type": "execute_result"
    }
   ],
   "source": [
    "s.geom_type"
   ]
  },
  {
   "cell_type": "code",
   "execution_count": 27,
   "id": "78626ac7",
   "metadata": {},
   "outputs": [
    {
     "data": {
      "text/plain": [
       "0    1.414214\n",
       "1    1.414214\n",
       "2    1.414214\n",
       "3    1.414214\n",
       "4    2.236068\n",
       "dtype: float64"
      ]
     },
     "execution_count": 27,
     "metadata": {},
     "output_type": "execute_result"
    }
   ],
   "source": [
    "s.distance(Point(-1, -1))"
   ]
  },
  {
   "cell_type": "markdown",
   "id": "cb3ea86f",
   "metadata": {},
   "source": [
    "## GeoDataFrame"
   ]
  },
  {
   "cell_type": "code",
   "execution_count": 28,
   "id": "91bac482",
   "metadata": {},
   "outputs": [
    {
     "data": {
      "text/html": [
       "<div>\n",
       "<style scoped>\n",
       "    .dataframe tbody tr th:only-of-type {\n",
       "        vertical-align: middle;\n",
       "    }\n",
       "\n",
       "    .dataframe tbody tr th {\n",
       "        vertical-align: top;\n",
       "    }\n",
       "\n",
       "    .dataframe thead th {\n",
       "        text-align: right;\n",
       "    }\n",
       "</style>\n",
       "<table border=\"1\" class=\"dataframe\">\n",
       "  <thead>\n",
       "    <tr style=\"text-align: right;\">\n",
       "      <th></th>\n",
       "      <th>col1</th>\n",
       "      <th>geometry</th>\n",
       "    </tr>\n",
       "  </thead>\n",
       "  <tbody>\n",
       "    <tr>\n",
       "      <th>0</th>\n",
       "      <td>name1</td>\n",
       "      <td>POINT (1.00000 2.00000)</td>\n",
       "    </tr>\n",
       "    <tr>\n",
       "      <th>1</th>\n",
       "      <td>name2</td>\n",
       "      <td>POINT (2.00000 1.00000)</td>\n",
       "    </tr>\n",
       "  </tbody>\n",
       "</table>\n",
       "</div>"
      ],
      "text/plain": [
       "    col1                 geometry\n",
       "0  name1  POINT (1.00000 2.00000)\n",
       "1  name2  POINT (2.00000 1.00000)"
      ]
     },
     "execution_count": 28,
     "metadata": {},
     "output_type": "execute_result"
    }
   ],
   "source": [
    "d = {\n",
    "    'col1': ['name1', 'name2'], \n",
    "    'geometry': [Point(1, 2), Point(2, 1)]\n",
    "}\n",
    "gdf = gpd.GeoDataFrame(d, crs='EPSG:4326', geometry='geometry')\n",
    "gdf"
   ]
  },
  {
   "cell_type": "markdown",
   "id": "581c83c1",
   "metadata": {},
   "source": [
    "###  crs (Coordinate Reference System)\n",
    "The coordinate reference system (CRS) is important because the geometric shapes in a GeoSeries or GeoDataFrame object are simply a collection of coordinates in an arbitrary space. A CRS tells Python how those coordinates relate to places on the Earth.\n",
    "\n",
    "The same CRS can often be referred to in many ways. For example, one of the most commonly used CRS is the WGS84 latitude-longitude projection. This can be referred to using the authority code **\"EPSG:4326\"**.\n",
    "\n",
    "In Taiwan, the commonly used Coordinate Reference System (CRS) is **\"EPSG:3826.**\" After converting from EPSG:4326 to EPSG:3826, the units for its x and y coordinates become **meter**."
   ]
  },
  {
   "cell_type": "code",
   "execution_count": 29,
   "id": "ca177a7e",
   "metadata": {
    "scrolled": false
   },
   "outputs": [
    {
     "data": {
      "text/html": [
       "<div>\n",
       "<style scoped>\n",
       "    .dataframe tbody tr th:only-of-type {\n",
       "        vertical-align: middle;\n",
       "    }\n",
       "\n",
       "    .dataframe tbody tr th {\n",
       "        vertical-align: top;\n",
       "    }\n",
       "\n",
       "    .dataframe thead th {\n",
       "        text-align: right;\n",
       "    }\n",
       "</style>\n",
       "<table border=\"1\" class=\"dataframe\">\n",
       "  <thead>\n",
       "    <tr style=\"text-align: right;\">\n",
       "      <th></th>\n",
       "      <th>AREA</th>\n",
       "      <th>PERF_ID</th>\n",
       "      <th>COUN_ID</th>\n",
       "      <th>CPID</th>\n",
       "      <th>CPTID</th>\n",
       "      <th>NPID</th>\n",
       "      <th>NPTID</th>\n",
       "      <th>PNAME</th>\n",
       "      <th>TNAME</th>\n",
       "      <th>PTNAME</th>\n",
       "      <th>TM2_MAX_X</th>\n",
       "      <th>TM2_MAX_Y</th>\n",
       "      <th>TM2_MIN_X</th>\n",
       "      <th>TM2_MIN_Y</th>\n",
       "      <th>MAX_X</th>\n",
       "      <th>MAX_Y</th>\n",
       "      <th>MIN_X</th>\n",
       "      <th>MIN_Y</th>\n",
       "      <th>geometry</th>\n",
       "    </tr>\n",
       "  </thead>\n",
       "  <tbody>\n",
       "    <tr>\n",
       "      <th>0</th>\n",
       "      <td>5.738380e+07</td>\n",
       "      <td>63012.0</td>\n",
       "      <td>6301200</td>\n",
       "      <td>63012</td>\n",
       "      <td>6301200</td>\n",
       "      <td>63012.0</td>\n",
       "      <td>6301200.0</td>\n",
       "      <td>臺北市</td>\n",
       "      <td>北投區</td>\n",
       "      <td>臺北市北投區</td>\n",
       "      <td>307802.1700</td>\n",
       "      <td>2.789176e+06</td>\n",
       "      <td>296266.0530</td>\n",
       "      <td>2.776476e+06</td>\n",
       "      <td>121.57361</td>\n",
       "      <td>25.21014</td>\n",
       "      <td>121.45871</td>\n",
       "      <td>25.09588</td>\n",
       "      <td>POLYGON ((302675.668 2785251.546, 302675.502 2...</td>\n",
       "    </tr>\n",
       "    <tr>\n",
       "      <th>1</th>\n",
       "      <td>6.110781e+07</td>\n",
       "      <td>63011.0</td>\n",
       "      <td>6301100</td>\n",
       "      <td>63011</td>\n",
       "      <td>6301100</td>\n",
       "      <td>63011.0</td>\n",
       "      <td>6301100.0</td>\n",
       "      <td>臺北市</td>\n",
       "      <td>士林區</td>\n",
       "      <td>臺北市士林區</td>\n",
       "      <td>311328.6318</td>\n",
       "      <td>2.787546e+06</td>\n",
       "      <td>296551.1512</td>\n",
       "      <td>2.774091e+06</td>\n",
       "      <td>121.60853</td>\n",
       "      <td>25.19528</td>\n",
       "      <td>121.46145</td>\n",
       "      <td>25.07434</td>\n",
       "      <td>POLYGON ((307802.170 2787372.760, 307831.907 2...</td>\n",
       "    </tr>\n",
       "  </tbody>\n",
       "</table>\n",
       "</div>"
      ],
      "text/plain": [
       "           AREA  PERF_ID  COUN_ID   CPID    CPTID     NPID      NPTID PNAME  \\\n",
       "0  5.738380e+07  63012.0  6301200  63012  6301200  63012.0  6301200.0   臺北市   \n",
       "1  6.110781e+07  63011.0  6301100  63011  6301100  63011.0  6301100.0   臺北市   \n",
       "\n",
       "  TNAME  PTNAME    TM2_MAX_X     TM2_MAX_Y    TM2_MIN_X     TM2_MIN_Y  \\\n",
       "0   北投區  臺北市北投區  307802.1700  2.789176e+06  296266.0530  2.776476e+06   \n",
       "1   士林區  臺北市士林區  311328.6318  2.787546e+06  296551.1512  2.774091e+06   \n",
       "\n",
       "       MAX_X     MAX_Y      MIN_X     MIN_Y  \\\n",
       "0  121.57361  25.21014  121.45871  25.09588   \n",
       "1  121.60853  25.19528  121.46145  25.07434   \n",
       "\n",
       "                                            geometry  \n",
       "0  POLYGON ((302675.668 2785251.546, 302675.502 2...  \n",
       "1  POLYGON ((307802.170 2787372.760, 307831.907 2...  "
      ]
     },
     "execution_count": 29,
     "metadata": {},
     "output_type": "execute_result"
    }
   ],
   "source": [
    "village_border = gpd.read_file('Datasets/Raw/臺北市區界圖_20220915', encoding='utf-8')\n",
    "village_border.head(2)"
   ]
  },
  {
   "cell_type": "code",
   "execution_count": 30,
   "id": "e1f1bcf9",
   "metadata": {
    "scrolled": true
   },
   "outputs": [
    {
     "data": {
      "text/plain": [
       "<Projected CRS: EPSG:3826>\n",
       "Name: TWD97 / TM2 zone 121\n",
       "Axis Info [cartesian]:\n",
       "- X[east]: Easting (metre)\n",
       "- Y[north]: Northing (metre)\n",
       "Area of Use:\n",
       "- name: Taiwan, Republic of China - between 120°E and 122°E, onshore and offshore - Taiwan Island.\n",
       "- bounds: (119.99, 20.41, 122.06, 26.72)\n",
       "Coordinate Operation:\n",
       "- name: Taiwan 2-degree TM zone 121\n",
       "- method: Transverse Mercator\n",
       "Datum: Taiwan Datum 1997\n",
       "- Ellipsoid: GRS 1980\n",
       "- Prime Meridian: Greenwich"
      ]
     },
     "execution_count": 30,
     "metadata": {},
     "output_type": "execute_result"
    }
   ],
   "source": [
    "village_border.crs = 'EPSG:3826'\n",
    "village_border.crs"
   ]
  },
  {
   "cell_type": "code",
   "execution_count": 31,
   "id": "dd42951b",
   "metadata": {},
   "outputs": [
    {
     "data": {
      "text/html": [
       "<div>\n",
       "<style scoped>\n",
       "    .dataframe tbody tr th:only-of-type {\n",
       "        vertical-align: middle;\n",
       "    }\n",
       "\n",
       "    .dataframe tbody tr th {\n",
       "        vertical-align: top;\n",
       "    }\n",
       "\n",
       "    .dataframe thead th {\n",
       "        text-align: right;\n",
       "    }\n",
       "</style>\n",
       "<table border=\"1\" class=\"dataframe\">\n",
       "  <thead>\n",
       "    <tr style=\"text-align: right;\">\n",
       "      <th></th>\n",
       "      <th>PTNAME</th>\n",
       "      <th>geometry</th>\n",
       "    </tr>\n",
       "  </thead>\n",
       "  <tbody>\n",
       "    <tr>\n",
       "      <th>0</th>\n",
       "      <td>臺北市北投區</td>\n",
       "      <td>POLYGON ((302675.668 2785251.546, 302675.502 2...</td>\n",
       "    </tr>\n",
       "    <tr>\n",
       "      <th>1</th>\n",
       "      <td>臺北市士林區</td>\n",
       "      <td>POLYGON ((307802.170 2787372.760, 307831.907 2...</td>\n",
       "    </tr>\n",
       "    <tr>\n",
       "      <th>2</th>\n",
       "      <td>臺北市內湖區</td>\n",
       "      <td>POLYGON ((310064.640 2778552.346, 310063.746 2...</td>\n",
       "    </tr>\n",
       "  </tbody>\n",
       "</table>\n",
       "</div>"
      ],
      "text/plain": [
       "   PTNAME                                           geometry\n",
       "0  臺北市北投區  POLYGON ((302675.668 2785251.546, 302675.502 2...\n",
       "1  臺北市士林區  POLYGON ((307802.170 2787372.760, 307831.907 2...\n",
       "2  臺北市內湖區  POLYGON ((310064.640 2778552.346, 310063.746 2..."
      ]
     },
     "execution_count": 31,
     "metadata": {},
     "output_type": "execute_result"
    }
   ],
   "source": [
    "village_border = village_border[['PTNAME', 'geometry']]\n",
    "village_border.head(3)"
   ]
  },
  {
   "cell_type": "code",
   "execution_count": 32,
   "id": "ad57b4ad",
   "metadata": {},
   "outputs": [
    {
     "data": {
      "text/plain": [
       "<Projected CRS: EPSG:3826>\n",
       "Name: TWD97 / TM2 zone 121\n",
       "Axis Info [cartesian]:\n",
       "- X[east]: Easting (metre)\n",
       "- Y[north]: Northing (metre)\n",
       "Area of Use:\n",
       "- name: Taiwan, Republic of China - between 120°E and 122°E, onshore and offshore - Taiwan Island.\n",
       "- bounds: (119.99, 20.41, 122.06, 26.72)\n",
       "Coordinate Operation:\n",
       "- name: Taiwan 2-degree TM zone 121\n",
       "- method: Transverse Mercator\n",
       "Datum: Taiwan Datum 1997\n",
       "- Ellipsoid: GRS 1980\n",
       "- Prime Meridian: Greenwich"
      ]
     },
     "execution_count": 32,
     "metadata": {},
     "output_type": "execute_result"
    }
   ],
   "source": [
    "village_border.crs = 'EPSG:3826'\n",
    "village_border.crs"
   ]
  },
  {
   "cell_type": "code",
   "execution_count": 33,
   "id": "1fb37ad7",
   "metadata": {
    "scrolled": true
   },
   "outputs": [
    {
     "data": {
      "text/plain": [
       "<Geographic 2D CRS: EPSG:4326>\n",
       "Name: WGS 84\n",
       "Axis Info [ellipsoidal]:\n",
       "- Lat[north]: Geodetic latitude (degree)\n",
       "- Lon[east]: Geodetic longitude (degree)\n",
       "Area of Use:\n",
       "- name: World.\n",
       "- bounds: (-180.0, -90.0, 180.0, 90.0)\n",
       "Datum: World Geodetic System 1984 ensemble\n",
       "- Ellipsoid: WGS 84\n",
       "- Prime Meridian: Greenwich"
      ]
     },
     "execution_count": 33,
     "metadata": {},
     "output_type": "execute_result"
    }
   ],
   "source": [
    "village_border = village_border.to_crs('EPSG:4326')\n",
    "village_border.crs"
   ]
  },
  {
   "cell_type": "code",
   "execution_count": 34,
   "id": "f524e361",
   "metadata": {},
   "outputs": [
    {
     "data": {
      "text/html": [
       "<div>\n",
       "<style scoped>\n",
       "    .dataframe tbody tr th:only-of-type {\n",
       "        vertical-align: middle;\n",
       "    }\n",
       "\n",
       "    .dataframe tbody tr th {\n",
       "        vertical-align: top;\n",
       "    }\n",
       "\n",
       "    .dataframe thead th {\n",
       "        text-align: right;\n",
       "    }\n",
       "</style>\n",
       "<table border=\"1\" class=\"dataframe\">\n",
       "  <thead>\n",
       "    <tr style=\"text-align: right;\">\n",
       "      <th></th>\n",
       "      <th>PTNAME</th>\n",
       "      <th>geometry</th>\n",
       "    </tr>\n",
       "  </thead>\n",
       "  <tbody>\n",
       "    <tr>\n",
       "      <th>0</th>\n",
       "      <td>臺北市北投區</td>\n",
       "      <td>POLYGON ((121.52259 25.17489, 121.52259 25.174...</td>\n",
       "    </tr>\n",
       "    <tr>\n",
       "      <th>1</th>\n",
       "      <td>臺北市士林區</td>\n",
       "      <td>POLYGON ((121.57354 25.19386, 121.57383 25.194...</td>\n",
       "    </tr>\n",
       "    <tr>\n",
       "      <th>2</th>\n",
       "      <td>臺北市內湖區</td>\n",
       "      <td>POLYGON ((121.59560 25.11414, 121.59559 25.114...</td>\n",
       "    </tr>\n",
       "  </tbody>\n",
       "</table>\n",
       "</div>"
      ],
      "text/plain": [
       "   PTNAME                                           geometry\n",
       "0  臺北市北投區  POLYGON ((121.52259 25.17489, 121.52259 25.174...\n",
       "1  臺北市士林區  POLYGON ((121.57354 25.19386, 121.57383 25.194...\n",
       "2  臺北市內湖區  POLYGON ((121.59560 25.11414, 121.59559 25.114..."
      ]
     },
     "execution_count": 34,
     "metadata": {},
     "output_type": "execute_result"
    }
   ],
   "source": [
    "village_border.head(3)"
   ]
  },
  {
   "cell_type": "code",
   "execution_count": 35,
   "id": "62618b53",
   "metadata": {},
   "outputs": [
    {
     "data": {
      "text/html": [
       "<div>\n",
       "<style scoped>\n",
       "    .dataframe tbody tr th:only-of-type {\n",
       "        vertical-align: middle;\n",
       "    }\n",
       "\n",
       "    .dataframe tbody tr th {\n",
       "        vertical-align: top;\n",
       "    }\n",
       "\n",
       "    .dataframe thead th {\n",
       "        text-align: right;\n",
       "    }\n",
       "</style>\n",
       "<table border=\"1\" class=\"dataframe\">\n",
       "  <thead>\n",
       "    <tr style=\"text-align: right;\">\n",
       "      <th></th>\n",
       "      <th>機構類型</th>\n",
       "      <th>機構名稱</th>\n",
       "      <th>地址</th>\n",
       "      <th>電話</th>\n",
       "    </tr>\n",
       "  </thead>\n",
       "  <tbody>\n",
       "    <tr>\n",
       "      <th>0</th>\n",
       "      <td>身障社區長照機構(日間照顧)</td>\n",
       "      <td>士林失能身障日照中心</td>\n",
       "      <td>臺北市士林區後港街189號一樓</td>\n",
       "      <td>(02)28810272</td>\n",
       "    </tr>\n",
       "    <tr>\n",
       "      <th>1</th>\n",
       "      <td>身障社區長照機構(日間照顧)</td>\n",
       "      <td>臺北市中山身障社區式長照機構（日間照顧）</td>\n",
       "      <td>臺北市中山區長安西路5弄2號四樓</td>\n",
       "      <td>(02)25211032</td>\n",
       "    </tr>\n",
       "    <tr>\n",
       "      <th>2</th>\n",
       "      <td>身障社區長照機構(日間照顧)</td>\n",
       "      <td>臺北市民生身障社區式長照機構（日間照顧）</td>\n",
       "      <td>臺北市松山區民生東路五段163之1號七樓</td>\n",
       "      <td>(02)27609605</td>\n",
       "    </tr>\n",
       "    <tr>\n",
       "      <th>3</th>\n",
       "      <td>身障社區長照機構(日間照顧)</td>\n",
       "      <td>臺北市信義身障社區式長照機構（日間照顧）</td>\n",
       "      <td>臺北市信義區信義路五段15號五樓</td>\n",
       "      <td>(02)27229933</td>\n",
       "    </tr>\n",
       "  </tbody>\n",
       "</table>\n",
       "</div>"
      ],
      "text/plain": [
       "             機構類型                  機構名稱                    地址            電話\n",
       "0  身障社區長照機構(日間照顧)            士林失能身障日照中心       臺北市士林區後港街189號一樓  (02)28810272\n",
       "1  身障社區長照機構(日間照顧)  臺北市中山身障社區式長照機構（日間照顧）      臺北市中山區長安西路5弄2號四樓  (02)25211032\n",
       "2  身障社區長照機構(日間照顧)  臺北市民生身障社區式長照機構（日間照顧）  臺北市松山區民生東路五段163之1號七樓  (02)27609605\n",
       "3  身障社區長照機構(日間照顧)  臺北市信義身障社區式長照機構（日間照顧）      臺北市信義區信義路五段15號五樓  (02)27229933"
      ]
     },
     "execution_count": 35,
     "metadata": {},
     "output_type": "execute_result"
    }
   ],
   "source": [
    "long_term_care"
   ]
  },
  {
   "cell_type": "code",
   "execution_count": 36,
   "id": "dbf6f50d",
   "metadata": {},
   "outputs": [],
   "source": [
    "# set column 'geometry'\n",
    "long_term_care['geometry'] = long_term_care['地址'].apply(\n",
    "    lambda x: Point(\n",
    "        geocoder.arcgis(x).json['lng'],\n",
    "        geocoder.arcgis(x).json['lat']\n",
    "    )\n",
    ")\n",
    "\n",
    "# from pd to gpd\n",
    "long_term_care = gpd.GeoDataFrame(\n",
    "    long_term_care,\n",
    "    crs='EPSG:4326'\n",
    ")\n",
    "\n",
    "# change crs\n",
    "long_term_care = long_term_care.to_crs('EPSG:3826')"
   ]
  },
  {
   "cell_type": "code",
   "execution_count": 37,
   "id": "da20a998",
   "metadata": {},
   "outputs": [
    {
     "data": {
      "text/plain": [
       "4218.0307886983055"
      ]
     },
     "execution_count": 37,
     "metadata": {},
     "output_type": "execute_result"
    }
   ],
   "source": [
    "# get distance (unit = m)\n",
    "long_term_care.loc[0, 'geometry'].distance(\n",
    "    long_term_care.loc[1, 'geometry']\n",
    ")"
   ]
  },
  {
   "cell_type": "markdown",
   "id": "a34cbd1c",
   "metadata": {},
   "source": [
    "## Manipulations"
   ]
  },
  {
   "cell_type": "markdown",
   "id": "736a4b29",
   "metadata": {},
   "source": [
    "### Intersect"
   ]
  },
  {
   "cell_type": "code",
   "execution_count": 38,
   "id": "d0ee8232",
   "metadata": {},
   "outputs": [],
   "source": [
    "# change crs\n",
    "village_border = village_border.to_crs('EPSG:3826')\n",
    "\n",
    "# get buffer\n",
    "long_term_care['buffer'] = long_term_care['geometry'].buffer(1000)\n",
    "buffer0 = long_term_care.loc[0, 'buffer']"
   ]
  },
  {
   "cell_type": "code",
   "execution_count": 39,
   "id": "2d775393",
   "metadata": {},
   "outputs": [
    {
     "name": "stdout",
     "output_type": "stream",
     "text": [
      "0     False\n",
      "1      True\n",
      "2     False\n",
      "3      True\n",
      "4      True\n",
      "5     False\n",
      "6     False\n",
      "7     False\n",
      "8     False\n",
      "9     False\n",
      "10    False\n",
      "11    False\n",
      "Name: geometry, dtype: bool\n",
      "- - - - - - - - - - - - - - - - - - - - \n",
      "['臺北市士林區', '臺北市中山區', '臺北市大同區']\n"
     ]
    }
   ],
   "source": [
    "# get the districts that intersect with buffer0\n",
    "idx = buffer0.intersects(village_border['geometry'])\n",
    "print(idx)\n",
    "print('- '* 20)\n",
    "print(village_border[idx].PTNAME.tolist())"
   ]
  },
  {
   "cell_type": "markdown",
   "id": "95c32831",
   "metadata": {},
   "source": [
    "### Overlay"
   ]
  },
  {
   "cell_type": "code",
   "execution_count": 40,
   "id": "728b4c05",
   "metadata": {},
   "outputs": [],
   "source": [
    "polys1 = gpd.GeoSeries(\n",
    "    [\n",
    "        Polygon([(0,0), (2,0), (2,2), (0,2)]),\n",
    "        Polygon([(2,2), (4,2), (4,4), (2,4)])\n",
    "    ]\n",
    ")\n",
    "\n",
    "\n",
    "polys2 = gpd.GeoSeries(\n",
    "    [\n",
    "        Polygon([(1,1), (3,1), (3,3), (1,3)]),\n",
    "        Polygon([(3,3), (5,3), (5,5), (3,5)])\n",
    "    ]\n",
    ")\n",
    "\n",
    "\n",
    "df1 = gpd.GeoDataFrame({'geometry': polys1, 'df1':[1,2]})\n",
    "\n",
    "df2 = gpd.GeoDataFrame({'geometry': polys2, 'df2':[1,2]})"
   ]
  },
  {
   "cell_type": "code",
   "execution_count": 41,
   "id": "c6477020",
   "metadata": {},
   "outputs": [
    {
     "data": {
      "text/plain": [
       "<Axes: >"
      ]
     },
     "execution_count": 41,
     "metadata": {},
     "output_type": "execute_result"
    },
    {
     "data": {
      "image/png": "[encoded data removed]",
      "text/plain": [
       "<Figure size 640x480 with 1 Axes>"
      ]
     },
     "metadata": {},
     "output_type": "display_data"
    }
   ],
   "source": [
    "ax = df1.plot(color='red');\n",
    "\n",
    "df2.plot(ax=ax, color='green', alpha=0.5)"
   ]
  },
  {
   "cell_type": "code",
   "execution_count": 42,
   "id": "1916908b",
   "metadata": {},
   "outputs": [
    {
     "data": {
      "text/html": [
       "<div>\n",
       "<style scoped>\n",
       "    .dataframe tbody tr th:only-of-type {\n",
       "        vertical-align: middle;\n",
       "    }\n",
       "\n",
       "    .dataframe tbody tr th {\n",
       "        vertical-align: top;\n",
       "    }\n",
       "\n",
       "    .dataframe thead th {\n",
       "        text-align: right;\n",
       "    }\n",
       "</style>\n",
       "<table border=\"1\" class=\"dataframe\">\n",
       "  <thead>\n",
       "    <tr style=\"text-align: right;\">\n",
       "      <th></th>\n",
       "      <th>df1</th>\n",
       "      <th>df2</th>\n",
       "      <th>geometry</th>\n",
       "    </tr>\n",
       "  </thead>\n",
       "  <tbody>\n",
       "    <tr>\n",
       "      <th>0</th>\n",
       "      <td>1.0</td>\n",
       "      <td>1.0</td>\n",
       "      <td>POLYGON ((2.00000 2.00000, 2.00000 1.00000, 1....</td>\n",
       "    </tr>\n",
       "    <tr>\n",
       "      <th>1</th>\n",
       "      <td>2.0</td>\n",
       "      <td>1.0</td>\n",
       "      <td>POLYGON ((2.00000 2.00000, 2.00000 3.00000, 3....</td>\n",
       "    </tr>\n",
       "    <tr>\n",
       "      <th>2</th>\n",
       "      <td>2.0</td>\n",
       "      <td>2.0</td>\n",
       "      <td>POLYGON ((4.00000 4.00000, 4.00000 3.00000, 3....</td>\n",
       "    </tr>\n",
       "    <tr>\n",
       "      <th>3</th>\n",
       "      <td>1.0</td>\n",
       "      <td>NaN</td>\n",
       "      <td>POLYGON ((2.00000 0.00000, 0.00000 0.00000, 0....</td>\n",
       "    </tr>\n",
       "    <tr>\n",
       "      <th>4</th>\n",
       "      <td>2.0</td>\n",
       "      <td>NaN</td>\n",
       "      <td>MULTIPOLYGON (((3.00000 3.00000, 4.00000 3.000...</td>\n",
       "    </tr>\n",
       "    <tr>\n",
       "      <th>5</th>\n",
       "      <td>NaN</td>\n",
       "      <td>1.0</td>\n",
       "      <td>MULTIPOLYGON (((2.00000 2.00000, 3.00000 2.000...</td>\n",
       "    </tr>\n",
       "    <tr>\n",
       "      <th>6</th>\n",
       "      <td>NaN</td>\n",
       "      <td>2.0</td>\n",
       "      <td>POLYGON ((3.00000 5.00000, 5.00000 5.00000, 5....</td>\n",
       "    </tr>\n",
       "  </tbody>\n",
       "</table>\n",
       "</div>"
      ],
      "text/plain": [
       "   df1  df2                                           geometry\n",
       "0  1.0  1.0  POLYGON ((2.00000 2.00000, 2.00000 1.00000, 1....\n",
       "1  2.0  1.0  POLYGON ((2.00000 2.00000, 2.00000 3.00000, 3....\n",
       "2  2.0  2.0  POLYGON ((4.00000 4.00000, 4.00000 3.00000, 3....\n",
       "3  1.0  NaN  POLYGON ((2.00000 0.00000, 0.00000 0.00000, 0....\n",
       "4  2.0  NaN  MULTIPOLYGON (((3.00000 3.00000, 4.00000 3.000...\n",
       "5  NaN  1.0  MULTIPOLYGON (((2.00000 2.00000, 3.00000 2.000...\n",
       "6  NaN  2.0  POLYGON ((3.00000 5.00000, 5.00000 5.00000, 5...."
      ]
     },
     "execution_count": 42,
     "metadata": {},
     "output_type": "execute_result"
    }
   ],
   "source": [
    "# how='union'\n",
    "res_union = df1.overlay(df2, how='union')\n",
    "res_union"
   ]
  },
  {
   "cell_type": "code",
   "execution_count": 43,
   "id": "1856e66f",
   "metadata": {},
   "outputs": [
    {
     "name": "stderr",
     "output_type": "stream",
     "text": [
      "/var/folders/f_/jlrntldn06g41fwxs9z9fbjh0000gn/T/ipykernel_13887/1109923995.py:1: FutureWarning: Currently, index_parts defaults to True, but in the future, it will default to False to be consistent with Pandas. Use `index_parts=True` to keep the current behavior and True/False to silence the warning.\n",
      "  res_union.explode().reset_index()\n"
     ]
    },
    {
     "data": {
      "text/html": [
       "<div>\n",
       "<style scoped>\n",
       "    .dataframe tbody tr th:only-of-type {\n",
       "        vertical-align: middle;\n",
       "    }\n",
       "\n",
       "    .dataframe tbody tr th {\n",
       "        vertical-align: top;\n",
       "    }\n",
       "\n",
       "    .dataframe thead th {\n",
       "        text-align: right;\n",
       "    }\n",
       "</style>\n",
       "<table border=\"1\" class=\"dataframe\">\n",
       "  <thead>\n",
       "    <tr style=\"text-align: right;\">\n",
       "      <th></th>\n",
       "      <th>level_0</th>\n",
       "      <th>level_1</th>\n",
       "      <th>df1</th>\n",
       "      <th>df2</th>\n",
       "      <th>geometry</th>\n",
       "    </tr>\n",
       "  </thead>\n",
       "  <tbody>\n",
       "    <tr>\n",
       "      <th>0</th>\n",
       "      <td>0</td>\n",
       "      <td>0</td>\n",
       "      <td>1.0</td>\n",
       "      <td>1.0</td>\n",
       "      <td>POLYGON ((2.00000 2.00000, 2.00000 1.00000, 1....</td>\n",
       "    </tr>\n",
       "    <tr>\n",
       "      <th>1</th>\n",
       "      <td>1</td>\n",
       "      <td>0</td>\n",
       "      <td>2.0</td>\n",
       "      <td>1.0</td>\n",
       "      <td>POLYGON ((2.00000 2.00000, 2.00000 3.00000, 3....</td>\n",
       "    </tr>\n",
       "    <tr>\n",
       "      <th>2</th>\n",
       "      <td>2</td>\n",
       "      <td>0</td>\n",
       "      <td>2.0</td>\n",
       "      <td>2.0</td>\n",
       "      <td>POLYGON ((4.00000 4.00000, 4.00000 3.00000, 3....</td>\n",
       "    </tr>\n",
       "    <tr>\n",
       "      <th>3</th>\n",
       "      <td>3</td>\n",
       "      <td>0</td>\n",
       "      <td>1.0</td>\n",
       "      <td>NaN</td>\n",
       "      <td>POLYGON ((2.00000 0.00000, 0.00000 0.00000, 0....</td>\n",
       "    </tr>\n",
       "    <tr>\n",
       "      <th>4</th>\n",
       "      <td>4</td>\n",
       "      <td>0</td>\n",
       "      <td>2.0</td>\n",
       "      <td>NaN</td>\n",
       "      <td>POLYGON ((3.00000 3.00000, 4.00000 3.00000, 4....</td>\n",
       "    </tr>\n",
       "    <tr>\n",
       "      <th>5</th>\n",
       "      <td>4</td>\n",
       "      <td>1</td>\n",
       "      <td>2.0</td>\n",
       "      <td>NaN</td>\n",
       "      <td>POLYGON ((3.00000 3.00000, 2.00000 3.00000, 2....</td>\n",
       "    </tr>\n",
       "    <tr>\n",
       "      <th>6</th>\n",
       "      <td>5</td>\n",
       "      <td>0</td>\n",
       "      <td>NaN</td>\n",
       "      <td>1.0</td>\n",
       "      <td>POLYGON ((2.00000 2.00000, 3.00000 2.00000, 3....</td>\n",
       "    </tr>\n",
       "    <tr>\n",
       "      <th>7</th>\n",
       "      <td>5</td>\n",
       "      <td>1</td>\n",
       "      <td>NaN</td>\n",
       "      <td>1.0</td>\n",
       "      <td>POLYGON ((2.00000 2.00000, 1.00000 2.00000, 1....</td>\n",
       "    </tr>\n",
       "    <tr>\n",
       "      <th>8</th>\n",
       "      <td>6</td>\n",
       "      <td>0</td>\n",
       "      <td>NaN</td>\n",
       "      <td>2.0</td>\n",
       "      <td>POLYGON ((3.00000 5.00000, 5.00000 5.00000, 5....</td>\n",
       "    </tr>\n",
       "  </tbody>\n",
       "</table>\n",
       "</div>"
      ],
      "text/plain": [
       "   level_0  level_1  df1  df2  \\\n",
       "0        0        0  1.0  1.0   \n",
       "1        1        0  2.0  1.0   \n",
       "2        2        0  2.0  2.0   \n",
       "3        3        0  1.0  NaN   \n",
       "4        4        0  2.0  NaN   \n",
       "5        4        1  2.0  NaN   \n",
       "6        5        0  NaN  1.0   \n",
       "7        5        1  NaN  1.0   \n",
       "8        6        0  NaN  2.0   \n",
       "\n",
       "                                            geometry  \n",
       "0  POLYGON ((2.00000 2.00000, 2.00000 1.00000, 1....  \n",
       "1  POLYGON ((2.00000 2.00000, 2.00000 3.00000, 3....  \n",
       "2  POLYGON ((4.00000 4.00000, 4.00000 3.00000, 3....  \n",
       "3  POLYGON ((2.00000 0.00000, 0.00000 0.00000, 0....  \n",
       "4  POLYGON ((3.00000 3.00000, 4.00000 3.00000, 4....  \n",
       "5  POLYGON ((3.00000 3.00000, 2.00000 3.00000, 2....  \n",
       "6  POLYGON ((2.00000 2.00000, 3.00000 2.00000, 3....  \n",
       "7  POLYGON ((2.00000 2.00000, 1.00000 2.00000, 1....  \n",
       "8  POLYGON ((3.00000 5.00000, 5.00000 5.00000, 5....  "
      ]
     },
     "execution_count": 43,
     "metadata": {},
     "output_type": "execute_result"
    }
   ],
   "source": [
    "res_union.explode().reset_index()"
   ]
  },
  {
   "cell_type": "code",
   "execution_count": 44,
   "id": "e091b3f9",
   "metadata": {},
   "outputs": [
    {
     "data": {
      "text/plain": [
       "<Axes: >"
      ]
     },
     "execution_count": 44,
     "metadata": {},
     "output_type": "execute_result"
    },
    {
     "data": {
      "image/png": "[encoded data removed]",
      "text/plain": [
       "<Figure size 640x480 with 1 Axes>"
      ]
     },
     "metadata": {},
     "output_type": "display_data"
    }
   ],
   "source": [
    "ax = res_union.plot(alpha=0.5, cmap='tab10')\n",
    "df1.plot(ax=ax, facecolor='none', edgecolor='k')\n",
    "df2.plot(ax=ax, facecolor='none', edgecolor='k')"
   ]
  },
  {
   "cell_type": "code",
   "execution_count": 45,
   "id": "972aabd4",
   "metadata": {},
   "outputs": [
    {
     "data": {
      "text/html": [
       "<div>\n",
       "<style scoped>\n",
       "    .dataframe tbody tr th:only-of-type {\n",
       "        vertical-align: middle;\n",
       "    }\n",
       "\n",
       "    .dataframe tbody tr th {\n",
       "        vertical-align: top;\n",
       "    }\n",
       "\n",
       "    .dataframe thead th {\n",
       "        text-align: right;\n",
       "    }\n",
       "</style>\n",
       "<table border=\"1\" class=\"dataframe\">\n",
       "  <thead>\n",
       "    <tr style=\"text-align: right;\">\n",
       "      <th></th>\n",
       "      <th>df1</th>\n",
       "      <th>df2</th>\n",
       "      <th>geometry</th>\n",
       "    </tr>\n",
       "  </thead>\n",
       "  <tbody>\n",
       "    <tr>\n",
       "      <th>0</th>\n",
       "      <td>1</td>\n",
       "      <td>1</td>\n",
       "      <td>POLYGON ((2.00000 2.00000, 2.00000 1.00000, 1....</td>\n",
       "    </tr>\n",
       "    <tr>\n",
       "      <th>1</th>\n",
       "      <td>2</td>\n",
       "      <td>1</td>\n",
       "      <td>POLYGON ((2.00000 2.00000, 2.00000 3.00000, 3....</td>\n",
       "    </tr>\n",
       "    <tr>\n",
       "      <th>2</th>\n",
       "      <td>2</td>\n",
       "      <td>2</td>\n",
       "      <td>POLYGON ((4.00000 4.00000, 4.00000 3.00000, 3....</td>\n",
       "    </tr>\n",
       "  </tbody>\n",
       "</table>\n",
       "</div>"
      ],
      "text/plain": [
       "   df1  df2                                           geometry\n",
       "0    1    1  POLYGON ((2.00000 2.00000, 2.00000 1.00000, 1....\n",
       "1    2    1  POLYGON ((2.00000 2.00000, 2.00000 3.00000, 3....\n",
       "2    2    2  POLYGON ((4.00000 4.00000, 4.00000 3.00000, 3...."
      ]
     },
     "execution_count": 45,
     "metadata": {},
     "output_type": "execute_result"
    }
   ],
   "source": [
    "# how='intersection'\n",
    "res_intersection = df1.overlay(df2, how='intersection')\n",
    "res_intersection"
   ]
  },
  {
   "cell_type": "code",
   "execution_count": 46,
   "id": "90f19ea4",
   "metadata": {},
   "outputs": [
    {
     "data": {
      "image/png": "[encoded data removed]",
      "text/plain": [
       "<Figure size 640x480 with 1 Axes>"
      ]
     },
     "metadata": {},
     "output_type": "display_data"
    }
   ],
   "source": [
    "ax = res_intersection.plot(cmap='tab10')\n",
    "\n",
    "df1.plot(ax=ax, facecolor='none', edgecolor='k');\n",
    "\n",
    "df2.plot(ax=ax, facecolor='none', edgecolor='k');\n"
   ]
  },
  {
   "cell_type": "code",
   "execution_count": 47,
   "id": "b801bb65",
   "metadata": {},
   "outputs": [
    {
     "data": {
      "image/png": "[encoded data removed]",
      "text/plain": [
       "<Figure size 640x480 with 1 Axes>"
      ]
     },
     "metadata": {},
     "output_type": "display_data"
    }
   ],
   "source": [
    "'''\n",
    "how='symmetric_difference'\n",
    "the opposite of 'intersection'\n",
    "'''\n",
    "res_symdiff = df1.overlay(df2, how='symmetric_difference')\n",
    "ax = res_symdiff.plot(cmap='tab10')\n",
    "df1.plot(ax=ax, facecolor='none', edgecolor='k');\n",
    "df2.plot(ax=ax, facecolor='none', edgecolor='k');"
   ]
  },
  {
   "cell_type": "code",
   "execution_count": 48,
   "id": "ff49f77e",
   "metadata": {},
   "outputs": [
    {
     "data": {
      "image/png": "[encoded data removed]",
      "text/plain": [
       "<Figure size 640x480 with 1 Axes>"
      ]
     },
     "metadata": {},
     "output_type": "display_data"
    }
   ],
   "source": [
    "'''\n",
    "how='difference'\n",
    "obtain the geometries that are part of df1 but are not contained in df2\n",
    "'''\n",
    "res_difference = df1.overlay(df2, how='difference')\n",
    "ax = res_difference.plot(cmap='tab10')\n",
    "df1.plot(ax=ax, facecolor='none', edgecolor='k');\n",
    "df2.plot(ax=ax, facecolor='none', edgecolor='k');"
   ]
  },
  {
   "cell_type": "code",
   "execution_count": 49,
   "id": "34e762bf",
   "metadata": {},
   "outputs": [
    {
     "data": {
      "image/png": "[encoded data removed]",
      "text/plain": [
       "<Figure size 640x480 with 1 Axes>"
      ]
     },
     "metadata": {},
     "output_type": "display_data"
    }
   ],
   "source": [
    "'''\n",
    "how='identity'\n",
    "the result consists of the surface of df1, \n",
    "but with the geometries obtained from overlaying df1 with df2\n",
    "'''\n",
    "res_identity = df1.overlay(df2, how='identity')\n",
    "ax = res_identity.plot(cmap='tab10')\n",
    "df1.plot(ax=ax, facecolor='none', edgecolor='k');\n",
    "df2.plot(ax=ax, facecolor='none', edgecolor='k');\n"
   ]
  },
  {
   "cell_type": "markdown",
   "id": "f414f826",
   "metadata": {},
   "source": [
    "### E.g. the overlap area between long-term care facilities with buffer and administrative districts"
   ]
  },
  {
   "cell_type": "code",
   "execution_count": 50,
   "id": "5038f78e",
   "metadata": {
    "scrolled": true
   },
   "outputs": [
    {
     "name": "stderr",
     "output_type": "stream",
     "text": [
      "/var/folders/f_/jlrntldn06g41fwxs9z9fbjh0000gn/T/ipykernel_13887/398861598.py:8: FutureWarning: Currently, index_parts defaults to True, but in the future, it will default to False to be consistent with Pandas. Use `index_parts=True` to keep the current behavior and True/False to silence the warning.\n",
      "  ).explode().reset_index()\n"
     ]
    },
    {
     "data": {
      "text/html": [
       "<div>\n",
       "<style scoped>\n",
       "    .dataframe tbody tr th:only-of-type {\n",
       "        vertical-align: middle;\n",
       "    }\n",
       "\n",
       "    .dataframe tbody tr th {\n",
       "        vertical-align: top;\n",
       "    }\n",
       "\n",
       "    .dataframe thead th {\n",
       "        text-align: right;\n",
       "    }\n",
       "</style>\n",
       "<table border=\"1\" class=\"dataframe\">\n",
       "  <thead>\n",
       "    <tr style=\"text-align: right;\">\n",
       "      <th></th>\n",
       "      <th>level_0</th>\n",
       "      <th>level_1</th>\n",
       "      <th>機構名稱</th>\n",
       "      <th>PTNAME</th>\n",
       "      <th>geometry</th>\n",
       "    </tr>\n",
       "  </thead>\n",
       "  <tbody>\n",
       "    <tr>\n",
       "      <th>0</th>\n",
       "      <td>0</td>\n",
       "      <td>0</td>\n",
       "      <td>士林失能身障日照中心</td>\n",
       "      <td>臺北市士林區</td>\n",
       "      <td>POLYGON ((303540.798 2775530.143, 303526.398 2...</td>\n",
       "    </tr>\n",
       "    <tr>\n",
       "      <th>1</th>\n",
       "      <td>1</td>\n",
       "      <td>0</td>\n",
       "      <td>士林失能身障日照中心</td>\n",
       "      <td>臺北市中山區</td>\n",
       "      <td>POLYGON ((303469.493 2775245.477, 303427.534 2...</td>\n",
       "    </tr>\n",
       "    <tr>\n",
       "      <th>2</th>\n",
       "      <td>2</td>\n",
       "      <td>0</td>\n",
       "      <td>臺北市中山身障社區式長照機構（日間照顧）</td>\n",
       "      <td>臺北市中山區</td>\n",
       "      <td>POLYGON ((303538.889 2771312.112, 303524.490 2...</td>\n",
       "    </tr>\n",
       "    <tr>\n",
       "      <th>3</th>\n",
       "      <td>3</td>\n",
       "      <td>0</td>\n",
       "      <td>士林失能身障日照中心</td>\n",
       "      <td>臺北市大同區</td>\n",
       "      <td>POLYGON ((302074.216 2774746.239, 302059.273 2...</td>\n",
       "    </tr>\n",
       "    <tr>\n",
       "      <th>4</th>\n",
       "      <td>4</td>\n",
       "      <td>0</td>\n",
       "      <td>臺北市中山身障社區式長照機構（日間照顧）</td>\n",
       "      <td>臺北市大同區</td>\n",
       "      <td>POLYGON ((301548.520 2771312.112, 301543.704 2...</td>\n",
       "    </tr>\n",
       "    <tr>\n",
       "      <th>5</th>\n",
       "      <td>5</td>\n",
       "      <td>0</td>\n",
       "      <td>臺北市中山身障社區式長照機構（日間照顧）</td>\n",
       "      <td>臺北市中正區</td>\n",
       "      <td>POLYGON ((303425.626 2770938.733, 303375.174 2...</td>\n",
       "    </tr>\n",
       "    <tr>\n",
       "      <th>6</th>\n",
       "      <td>6</td>\n",
       "      <td>0</td>\n",
       "      <td>臺北市民生身障社區式長照機構（日間照顧）</td>\n",
       "      <td>臺北市內湖區</td>\n",
       "      <td>POLYGON ((307755.419 2772339.196, 307741.020 2...</td>\n",
       "    </tr>\n",
       "    <tr>\n",
       "      <th>7</th>\n",
       "      <td>7</td>\n",
       "      <td>0</td>\n",
       "      <td>臺北市民生身障社區式長照機構（日間照顧）</td>\n",
       "      <td>臺北市松山區</td>\n",
       "      <td>POLYGON ((307642.156 2771965.816, 307591.704 2...</td>\n",
       "    </tr>\n",
       "    <tr>\n",
       "      <th>8</th>\n",
       "      <td>8</td>\n",
       "      <td>0</td>\n",
       "      <td>臺北市信義身障社區式長照機構（日間照顧）</td>\n",
       "      <td>臺北市信義區</td>\n",
       "      <td>POLYGON ((308203.315 2769469.958, 308188.915 2...</td>\n",
       "    </tr>\n",
       "    <tr>\n",
       "      <th>9</th>\n",
       "      <td>9</td>\n",
       "      <td>0</td>\n",
       "      <td>臺北市信義身障社區式長照機構（日間照顧）</td>\n",
       "      <td>臺北市大安區</td>\n",
       "      <td>POLYGON ((306227.345 2769372.884, 306212.945 2...</td>\n",
       "    </tr>\n",
       "    <tr>\n",
       "      <th>10</th>\n",
       "      <td>10</td>\n",
       "      <td>0</td>\n",
       "      <td>士林失能身障日照中心</td>\n",
       "      <td>NaN</td>\n",
       "      <td>POLYGON ((302916.010 2774713.356, 302919.276 2...</td>\n",
       "    </tr>\n",
       "    <tr>\n",
       "      <th>11</th>\n",
       "      <td>10</td>\n",
       "      <td>1</td>\n",
       "      <td>士林失能身障日照中心</td>\n",
       "      <td>NaN</td>\n",
       "      <td>POLYGON ((302140.901 2774714.699, 302140.901 2...</td>\n",
       "    </tr>\n",
       "    <tr>\n",
       "      <th>12</th>\n",
       "      <td>11</td>\n",
       "      <td>0</td>\n",
       "      <td>臺北市中山身障社區式長照機構（日間照顧）</td>\n",
       "      <td>NaN</td>\n",
       "      <td>POLYGON ((302543.768 2771201.647, 302587.840 2...</td>\n",
       "    </tr>\n",
       "    <tr>\n",
       "      <th>13</th>\n",
       "      <td>11</td>\n",
       "      <td>1</td>\n",
       "      <td>臺北市中山身障社區式長照機構（日間照顧）</td>\n",
       "      <td>NaN</td>\n",
       "      <td>POLYGON ((302348.321 2771237.946, 302392.989 2...</td>\n",
       "    </tr>\n",
       "    <tr>\n",
       "      <th>14</th>\n",
       "      <td>11</td>\n",
       "      <td>2</td>\n",
       "      <td>臺北市中山身障社區式長照機構（日間照顧）</td>\n",
       "      <td>NaN</td>\n",
       "      <td>POLYGON ((302112.564 2771277.990, 302112.542 2...</td>\n",
       "    </tr>\n",
       "    <tr>\n",
       "      <th>15</th>\n",
       "      <td>11</td>\n",
       "      <td>3</td>\n",
       "      <td>臺北市中山身障社區式長照機構（日間照顧）</td>\n",
       "      <td>NaN</td>\n",
       "      <td>POLYGON ((302033.025 2771291.284, 302032.958 2...</td>\n",
       "    </tr>\n",
       "    <tr>\n",
       "      <th>16</th>\n",
       "      <td>11</td>\n",
       "      <td>4</td>\n",
       "      <td>臺北市中山身障社區式長照機構（日間照顧）</td>\n",
       "      <td>NaN</td>\n",
       "      <td>POLYGON ((301948.242 2771309.398, 301948.139 2...</td>\n",
       "    </tr>\n",
       "    <tr>\n",
       "      <th>17</th>\n",
       "      <td>12</td>\n",
       "      <td>0</td>\n",
       "      <td>臺北市民生身障社區式長照機構（日間照顧）</td>\n",
       "      <td>NaN</td>\n",
       "      <td>POLYGON ((307645.474 2772332.275, 307651.863 2...</td>\n",
       "    </tr>\n",
       "    <tr>\n",
       "      <th>18</th>\n",
       "      <td>12</td>\n",
       "      <td>1</td>\n",
       "      <td>臺北市民生身障社區式長照機構（日間照顧）</td>\n",
       "      <td>NaN</td>\n",
       "      <td>POLYGON ((307598.317 2772546.318, 307604.773 2...</td>\n",
       "    </tr>\n",
       "    <tr>\n",
       "      <th>19</th>\n",
       "      <td>12</td>\n",
       "      <td>2</td>\n",
       "      <td>臺北市民生身障社區式長照機構（日間照顧）</td>\n",
       "      <td>NaN</td>\n",
       "      <td>POLYGON ((307543.649 2772692.904, 307544.067 2...</td>\n",
       "    </tr>\n",
       "    <tr>\n",
       "      <th>20</th>\n",
       "      <td>12</td>\n",
       "      <td>3</td>\n",
       "      <td>臺北市民生身障社區式長照機構（日間照顧）</td>\n",
       "      <td>NaN</td>\n",
       "      <td>POLYGON ((307484.786 2773125.073, 307483.789 2...</td>\n",
       "    </tr>\n",
       "    <tr>\n",
       "      <th>21</th>\n",
       "      <td>12</td>\n",
       "      <td>4</td>\n",
       "      <td>臺北市民生身障社區式長照機構（日間照顧）</td>\n",
       "      <td>NaN</td>\n",
       "      <td>POLYGON ((307446.317 2773047.321, 307446.317 2...</td>\n",
       "    </tr>\n",
       "    <tr>\n",
       "      <th>22</th>\n",
       "      <td>13</td>\n",
       "      <td>0</td>\n",
       "      <td>臺北市信義身障社區式長照機構（日間照顧）</td>\n",
       "      <td>NaN</td>\n",
       "      <td>POLYGON ((306260.691 2769884.814, 306259.963 2...</td>\n",
       "    </tr>\n",
       "    <tr>\n",
       "      <th>23</th>\n",
       "      <td>13</td>\n",
       "      <td>1</td>\n",
       "      <td>臺北市信義身障社區式長照機構（日間照顧）</td>\n",
       "      <td>NaN</td>\n",
       "      <td>POLYGON ((306258.491 2769767.516, 306258.067 2...</td>\n",
       "    </tr>\n",
       "    <tr>\n",
       "      <th>24</th>\n",
       "      <td>13</td>\n",
       "      <td>2</td>\n",
       "      <td>臺北市信義身障社區式長照機構（日間照顧）</td>\n",
       "      <td>NaN</td>\n",
       "      <td>POLYGON ((306256.218 2769618.915, 306255.674 2...</td>\n",
       "    </tr>\n",
       "    <tr>\n",
       "      <th>25</th>\n",
       "      <td>13</td>\n",
       "      <td>3</td>\n",
       "      <td>臺北市信義身障社區式長照機構（日間照顧）</td>\n",
       "      <td>NaN</td>\n",
       "      <td>POLYGON ((306255.101 2769553.965, 306253.651 2...</td>\n",
       "    </tr>\n",
       "    <tr>\n",
       "      <th>26</th>\n",
       "      <td>13</td>\n",
       "      <td>4</td>\n",
       "      <td>臺北市信義身障社區式長照機構（日間照顧）</td>\n",
       "      <td>NaN</td>\n",
       "      <td>POLYGON ((306252.826 2769421.619, 306252.406 2...</td>\n",
       "    </tr>\n",
       "    <tr>\n",
       "      <th>27</th>\n",
       "      <td>13</td>\n",
       "      <td>5</td>\n",
       "      <td>臺北市信義身障社區式長照機構（日間照顧）</td>\n",
       "      <td>NaN</td>\n",
       "      <td>POLYGON ((306250.790 2769279.284, 306250.790 2...</td>\n",
       "    </tr>\n",
       "    <tr>\n",
       "      <th>28</th>\n",
       "      <td>14</td>\n",
       "      <td>0</td>\n",
       "      <td>NaN</td>\n",
       "      <td>臺北市北投區</td>\n",
       "      <td>POLYGON ((302675.668 2785251.546, 302675.502 2...</td>\n",
       "    </tr>\n",
       "    <tr>\n",
       "      <th>29</th>\n",
       "      <td>15</td>\n",
       "      <td>0</td>\n",
       "      <td>NaN</td>\n",
       "      <td>臺北市士林區</td>\n",
       "      <td>POLYGON ((307831.907 2787396.253, 307867.895 2...</td>\n",
       "    </tr>\n",
       "    <tr>\n",
       "      <th>30</th>\n",
       "      <td>15</td>\n",
       "      <td>1</td>\n",
       "      <td>NaN</td>\n",
       "      <td>臺北市士林區</td>\n",
       "      <td>POLYGON ((302940.415 2774621.423, 302973.986 2...</td>\n",
       "    </tr>\n",
       "    <tr>\n",
       "      <th>31</th>\n",
       "      <td>16</td>\n",
       "      <td>0</td>\n",
       "      <td>NaN</td>\n",
       "      <td>臺北市內湖區</td>\n",
       "      <td>POLYGON ((310063.746 2778552.161, 310062.079 2...</td>\n",
       "    </tr>\n",
       "    <tr>\n",
       "      <th>32</th>\n",
       "      <td>17</td>\n",
       "      <td>0</td>\n",
       "      <td>NaN</td>\n",
       "      <td>臺北市中山區</td>\n",
       "      <td>POLYGON ((305742.948 2776001.112, 305758.028 2...</td>\n",
       "    </tr>\n",
       "    <tr>\n",
       "      <th>33</th>\n",
       "      <td>18</td>\n",
       "      <td>0</td>\n",
       "      <td>NaN</td>\n",
       "      <td>臺北市大同區</td>\n",
       "      <td>POLYGON ((301263.911 2774558.013, 301267.510 2...</td>\n",
       "    </tr>\n",
       "    <tr>\n",
       "      <th>34</th>\n",
       "      <td>19</td>\n",
       "      <td>0</td>\n",
       "      <td>NaN</td>\n",
       "      <td>臺北市松山區</td>\n",
       "      <td>POLYGON ((308112.416 2771373.200, 308099.461 2...</td>\n",
       "    </tr>\n",
       "    <tr>\n",
       "      <th>35</th>\n",
       "      <td>20</td>\n",
       "      <td>0</td>\n",
       "      <td>NaN</td>\n",
       "      <td>臺北市南港區</td>\n",
       "      <td>POLYGON ((308499.130 2771766.489, 308506.114 2...</td>\n",
       "    </tr>\n",
       "    <tr>\n",
       "      <th>36</th>\n",
       "      <td>21</td>\n",
       "      <td>0</td>\n",
       "      <td>NaN</td>\n",
       "      <td>臺北市中正區</td>\n",
       "      <td>POLYGON ((301521.530 2771211.996, 301561.249 2...</td>\n",
       "    </tr>\n",
       "    <tr>\n",
       "      <th>37</th>\n",
       "      <td>22</td>\n",
       "      <td>0</td>\n",
       "      <td>NaN</td>\n",
       "      <td>臺北市信義區</td>\n",
       "      <td>POLYGON ((308517.862 2771381.591, 308529.185 2...</td>\n",
       "    </tr>\n",
       "    <tr>\n",
       "      <th>38</th>\n",
       "      <td>23</td>\n",
       "      <td>0</td>\n",
       "      <td>NaN</td>\n",
       "      <td>臺北市萬華區</td>\n",
       "      <td>POLYGON ((301503.796 2771202.012, 301503.607 2...</td>\n",
       "    </tr>\n",
       "    <tr>\n",
       "      <th>39</th>\n",
       "      <td>24</td>\n",
       "      <td>0</td>\n",
       "      <td>NaN</td>\n",
       "      <td>臺北市大安區</td>\n",
       "      <td>POLYGON ((304018.020 2770857.854, 304094.034 2...</td>\n",
       "    </tr>\n",
       "    <tr>\n",
       "      <th>40</th>\n",
       "      <td>25</td>\n",
       "      <td>0</td>\n",
       "      <td>NaN</td>\n",
       "      <td>臺北市文山區</td>\n",
       "      <td>POLYGON ((308303.222 2767464.227, 308310.771 2...</td>\n",
       "    </tr>\n",
       "  </tbody>\n",
       "</table>\n",
       "</div>"
      ],
      "text/plain": [
       "    level_0  level_1                  機構名稱  PTNAME  \\\n",
       "0         0        0            士林失能身障日照中心  臺北市士林區   \n",
       "1         1        0            士林失能身障日照中心  臺北市中山區   \n",
       "2         2        0  臺北市中山身障社區式長照機構（日間照顧）  臺北市中山區   \n",
       "3         3        0            士林失能身障日照中心  臺北市大同區   \n",
       "4         4        0  臺北市中山身障社區式長照機構（日間照顧）  臺北市大同區   \n",
       "5         5        0  臺北市中山身障社區式長照機構（日間照顧）  臺北市中正區   \n",
       "6         6        0  臺北市民生身障社區式長照機構（日間照顧）  臺北市內湖區   \n",
       "7         7        0  臺北市民生身障社區式長照機構（日間照顧）  臺北市松山區   \n",
       "8         8        0  臺北市信義身障社區式長照機構（日間照顧）  臺北市信義區   \n",
       "9         9        0  臺北市信義身障社區式長照機構（日間照顧）  臺北市大安區   \n",
       "10       10        0            士林失能身障日照中心     NaN   \n",
       "11       10        1            士林失能身障日照中心     NaN   \n",
       "12       11        0  臺北市中山身障社區式長照機構（日間照顧）     NaN   \n",
       "13       11        1  臺北市中山身障社區式長照機構（日間照顧）     NaN   \n",
       "14       11        2  臺北市中山身障社區式長照機構（日間照顧）     NaN   \n",
       "15       11        3  臺北市中山身障社區式長照機構（日間照顧）     NaN   \n",
       "16       11        4  臺北市中山身障社區式長照機構（日間照顧）     NaN   \n",
       "17       12        0  臺北市民生身障社區式長照機構（日間照顧）     NaN   \n",
       "18       12        1  臺北市民生身障社區式長照機構（日間照顧）     NaN   \n",
       "19       12        2  臺北市民生身障社區式長照機構（日間照顧）     NaN   \n",
       "20       12        3  臺北市民生身障社區式長照機構（日間照顧）     NaN   \n",
       "21       12        4  臺北市民生身障社區式長照機構（日間照顧）     NaN   \n",
       "22       13        0  臺北市信義身障社區式長照機構（日間照顧）     NaN   \n",
       "23       13        1  臺北市信義身障社區式長照機構（日間照顧）     NaN   \n",
       "24       13        2  臺北市信義身障社區式長照機構（日間照顧）     NaN   \n",
       "25       13        3  臺北市信義身障社區式長照機構（日間照顧）     NaN   \n",
       "26       13        4  臺北市信義身障社區式長照機構（日間照顧）     NaN   \n",
       "27       13        5  臺北市信義身障社區式長照機構（日間照顧）     NaN   \n",
       "28       14        0                   NaN  臺北市北投區   \n",
       "29       15        0                   NaN  臺北市士林區   \n",
       "30       15        1                   NaN  臺北市士林區   \n",
       "31       16        0                   NaN  臺北市內湖區   \n",
       "32       17        0                   NaN  臺北市中山區   \n",
       "33       18        0                   NaN  臺北市大同區   \n",
       "34       19        0                   NaN  臺北市松山區   \n",
       "35       20        0                   NaN  臺北市南港區   \n",
       "36       21        0                   NaN  臺北市中正區   \n",
       "37       22        0                   NaN  臺北市信義區   \n",
       "38       23        0                   NaN  臺北市萬華區   \n",
       "39       24        0                   NaN  臺北市大安區   \n",
       "40       25        0                   NaN  臺北市文山區   \n",
       "\n",
       "                                             geometry  \n",
       "0   POLYGON ((303540.798 2775530.143, 303526.398 2...  \n",
       "1   POLYGON ((303469.493 2775245.477, 303427.534 2...  \n",
       "2   POLYGON ((303538.889 2771312.112, 303524.490 2...  \n",
       "3   POLYGON ((302074.216 2774746.239, 302059.273 2...  \n",
       "4   POLYGON ((301548.520 2771312.112, 301543.704 2...  \n",
       "5   POLYGON ((303425.626 2770938.733, 303375.174 2...  \n",
       "6   POLYGON ((307755.419 2772339.196, 307741.020 2...  \n",
       "7   POLYGON ((307642.156 2771965.816, 307591.704 2...  \n",
       "8   POLYGON ((308203.315 2769469.958, 308188.915 2...  \n",
       "9   POLYGON ((306227.345 2769372.884, 306212.945 2...  \n",
       "10  POLYGON ((302916.010 2774713.356, 302919.276 2...  \n",
       "11  POLYGON ((302140.901 2774714.699, 302140.901 2...  \n",
       "12  POLYGON ((302543.768 2771201.647, 302587.840 2...  \n",
       "13  POLYGON ((302348.321 2771237.946, 302392.989 2...  \n",
       "14  POLYGON ((302112.564 2771277.990, 302112.542 2...  \n",
       "15  POLYGON ((302033.025 2771291.284, 302032.958 2...  \n",
       "16  POLYGON ((301948.242 2771309.398, 301948.139 2...  \n",
       "17  POLYGON ((307645.474 2772332.275, 307651.863 2...  \n",
       "18  POLYGON ((307598.317 2772546.318, 307604.773 2...  \n",
       "19  POLYGON ((307543.649 2772692.904, 307544.067 2...  \n",
       "20  POLYGON ((307484.786 2773125.073, 307483.789 2...  \n",
       "21  POLYGON ((307446.317 2773047.321, 307446.317 2...  \n",
       "22  POLYGON ((306260.691 2769884.814, 306259.963 2...  \n",
       "23  POLYGON ((306258.491 2769767.516, 306258.067 2...  \n",
       "24  POLYGON ((306256.218 2769618.915, 306255.674 2...  \n",
       "25  POLYGON ((306255.101 2769553.965, 306253.651 2...  \n",
       "26  POLYGON ((306252.826 2769421.619, 306252.406 2...  \n",
       "27  POLYGON ((306250.790 2769279.284, 306250.790 2...  \n",
       "28  POLYGON ((302675.668 2785251.546, 302675.502 2...  \n",
       "29  POLYGON ((307831.907 2787396.253, 307867.895 2...  \n",
       "30  POLYGON ((302940.415 2774621.423, 302973.986 2...  \n",
       "31  POLYGON ((310063.746 2778552.161, 310062.079 2...  \n",
       "32  POLYGON ((305742.948 2776001.112, 305758.028 2...  \n",
       "33  POLYGON ((301263.911 2774558.013, 301267.510 2...  \n",
       "34  POLYGON ((308112.416 2771373.200, 308099.461 2...  \n",
       "35  POLYGON ((308499.130 2771766.489, 308506.114 2...  \n",
       "36  POLYGON ((301521.530 2771211.996, 301561.249 2...  \n",
       "37  POLYGON ((308517.862 2771381.591, 308529.185 2...  \n",
       "38  POLYGON ((301503.796 2771202.012, 301503.607 2...  \n",
       "39  POLYGON ((304018.020 2770857.854, 304094.034 2...  \n",
       "40  POLYGON ((308303.222 2767464.227, 308310.771 2...  "
      ]
     },
     "execution_count": 50,
     "metadata": {},
     "output_type": "execute_result"
    }
   ],
   "source": [
    "long_term_care_buffer = long_term_care[['機構名稱', 'buffer']]\n",
    "long_term_care_buffer = long_term_care_buffer.set_geometry('buffer')\n",
    "\n",
    "overlay_df = gpd.overlay(\n",
    "    long_term_care_buffer, \n",
    "    village_border, \n",
    "    how='union'\n",
    ").explode().reset_index()\n",
    "\n",
    "overlay_df"
   ]
  },
  {
   "cell_type": "code",
   "execution_count": 51,
   "id": "91314a20",
   "metadata": {
    "scrolled": true
   },
   "outputs": [
    {
     "data": {
      "text/plain": [
       "0     3.044400e+06\n",
       "1     9.154184e+04\n",
       "2     1.098532e+06\n",
       "3     6.069314e+02\n",
       "4     8.642152e+05\n",
       "5     1.173800e+06\n",
       "6     1.378886e+05\n",
       "7     2.998660e+06\n",
       "8     3.117763e+06\n",
       "9     1.878498e+04\n",
       "10    3.580674e-10\n",
       "11    2.728973e-09\n",
       "12    9.589520e-06\n",
       "13    2.968405e-01\n",
       "14    9.100278e-03\n",
       "15    1.314581e-01\n",
       "16    3.656399e-01\n",
       "17    1.290126e-03\n",
       "18    5.995269e-04\n",
       "19    1.747772e-04\n",
       "20    1.852653e-06\n",
       "21    3.297013e-05\n",
       "22    9.954847e-03\n",
       "23    6.510426e-03\n",
       "24    4.390402e-04\n",
       "25    4.906428e-03\n",
       "26    5.024801e-03\n",
       "27    1.686159e-04\n",
       "28    5.738380e+07\n",
       "29    5.789722e+07\n",
       "30    1.661904e+05\n",
       "31    3.181394e+07\n",
       "32    1.268632e+07\n",
       "33    3.906514e+06\n",
       "34    5.682794e+06\n",
       "35    2.195662e+07\n",
       "36    6.368075e+06\n",
       "37    8.121732e+06\n",
       "38    7.449655e+06\n",
       "39    1.132080e+07\n",
       "40    3.125012e+07\n",
       "dtype: float64"
      ]
     },
     "execution_count": 51,
     "metadata": {},
     "output_type": "execute_result"
    }
   ],
   "source": [
    "overlay_df['geometry'].area"
   ]
  },
  {
   "cell_type": "markdown",
   "id": "14a1f45f",
   "metadata": {},
   "source": [
    "# Kepler in Python"
   ]
  },
  {
   "cell_type": "code",
   "execution_count": 52,
   "id": "8e617e83",
   "metadata": {},
   "outputs": [
    {
     "name": "stdout",
     "output_type": "stream",
     "text": [
      "User Guide: https://docs.kepler.gl/docs/keplergl-jupyter\n"
     ]
    },
    {
     "name": "stderr",
     "output_type": "stream",
     "text": [
      "/opt/homebrew/anaconda3/lib/python3.11/site-packages/jupyter_client/session.py:718: UserWarning: Message serialization failed with:\n",
      "Out of range float values are not JSON compliant\n",
      "Supporting this message is deprecated in jupyter-client 7, please make sure your message is JSON-compliant\n",
      "  content = self.pack(content)\n",
      "/opt/homebrew/anaconda3/lib/python3.11/site-packages/jupyter_client/session.py:718: UserWarning: Message serialization failed with:\n",
      "Out of range float values are not JSON compliant\n",
      "Supporting this message is deprecated in jupyter-client 7, please make sure your message is JSON-compliant\n",
      "  content = self.pack(content)\n"
     ]
    },
    {
     "data": {
      "application/vnd.jupyter.widget-view+json": {
       "model_id": "383644d585114eae9d46592c858328ef",
       "version_major": 2,
       "version_minor": 0
      },
      "text/plain": [
       "KeplerGl(data={'overlay_df': {'index': [10, 11, 12, 13, 14, 15, 16, 17, 18, 19, 20, 21, 22, 23, 24, 25, 26, 27…"
      ]
     },
     "metadata": {},
     "output_type": "display_data"
    }
   ],
   "source": [
    "from keplergl import KeplerGl\n",
    "\n",
    "map_ = KeplerGl(height=700)\n",
    "map_.add_data(\n",
    "    data=overlay_df[overlay_df.area<1], \n",
    "    name='overlay_df'\n",
    ")\n",
    "map_.add_data(\n",
    "    data=village_border, \n",
    "    name='VB'\n",
    ")\n",
    "map_"
   ]
  },
  {
   "cell_type": "code",
   "execution_count": null,
   "id": "e6ea6ed2",
   "metadata": {},
   "outputs": [],
   "source": []
  },
  {
   "cell_type": "markdown",
   "id": "193d25cd",
   "metadata": {},
   "source": [
    "# 儀表板資料格式轉換\n",
    "\n",
    "For the input format of the dashboard, you can refer to this [link](https://tuic.gov.taipei/documentation/front-end/chart-data)."
   ]
  },
  {
   "cell_type": "markdown",
   "id": "c093fb55",
   "metadata": {},
   "source": [
    "## save as GeoJson"
   ]
  },
  {
   "cell_type": "code",
   "execution_count": 53,
   "id": "a48f4aab",
   "metadata": {},
   "outputs": [],
   "source": [
    "long_term_care_buffer = long_term_care_buffer.to_crs('EPSG:4326')\n",
    "long_term_care_buffer.to_file(\n",
    "    'Processed_by_ETL/map_data/long_term_care_buffer.geojson', \n",
    "    driver='GeoJSON'\n",
    ")"
   ]
  },
  {
   "cell_type": "markdown",
   "id": "dbd9e439",
   "metadata": {},
   "source": [
    "## save as json"
   ]
  },
  {
   "cell_type": "markdown",
   "id": "14f1e8db",
   "metadata": {},
   "source": [
    "### Two-Dimensional Data"
   ]
  },
  {
   "cell_type": "code",
   "execution_count": 54,
   "id": "c0b7f236",
   "metadata": {},
   "outputs": [],
   "source": [
    "TP_daycare_town = gpd.read_file('Datasets/Processed/TP_daycare_town.geojson')\n",
    "TP_daycare_town['NUMPOINTS'] = TP_daycare_town['NUMPOINTS'].astype(int)\n",
    "\n",
    "specified_order = [\n",
    "    '北投區', '士林區', '內湖區', '南港區', \n",
    "    '松山區', '信義區', '中山區', '大同區', \n",
    "    '中正區', '萬華區', '大安區', '文山區'\n",
    "]\n",
    "mapping = {y: x for x, y in enumerate(specified_order)}\n",
    "\n",
    "TP_daycare_town['sort_idx'] = TP_daycare_town['TNAME'].apply(lambda x: mapping[x])\n",
    "TP_daycare_town.sort_values(by=['sort_idx'], inplace=True)"
   ]
  },
  {
   "cell_type": "code",
   "execution_count": 55,
   "id": "e7223d39",
   "metadata": {
    "scrolled": true
   },
   "outputs": [
    {
     "data": {
      "text/html": [
       "<div>\n",
       "<style scoped>\n",
       "    .dataframe tbody tr th:only-of-type {\n",
       "        vertical-align: middle;\n",
       "    }\n",
       "\n",
       "    .dataframe tbody tr th {\n",
       "        vertical-align: top;\n",
       "    }\n",
       "\n",
       "    .dataframe thead th {\n",
       "        text-align: right;\n",
       "    }\n",
       "</style>\n",
       "<table border=\"1\" class=\"dataframe\">\n",
       "  <thead>\n",
       "    <tr style=\"text-align: right;\">\n",
       "      <th></th>\n",
       "      <th>AREA</th>\n",
       "      <th>COUN_ID</th>\n",
       "      <th>PNAME</th>\n",
       "      <th>TNAME</th>\n",
       "      <th>PTNAME</th>\n",
       "      <th>MAX_X</th>\n",
       "      <th>MAX_Y</th>\n",
       "      <th>MIN_X</th>\n",
       "      <th>MIN_Y</th>\n",
       "      <th>NUMPOINTS</th>\n",
       "      <th>geometry</th>\n",
       "      <th>sort_idx</th>\n",
       "    </tr>\n",
       "  </thead>\n",
       "  <tbody>\n",
       "    <tr>\n",
       "      <th>0</th>\n",
       "      <td>5.738380e+07</td>\n",
       "      <td>6301200</td>\n",
       "      <td>臺北市</td>\n",
       "      <td>北投區</td>\n",
       "      <td>臺北市北投區</td>\n",
       "      <td>121.57361</td>\n",
       "      <td>25.21014</td>\n",
       "      <td>121.45871</td>\n",
       "      <td>25.09588</td>\n",
       "      <td>3</td>\n",
       "      <td>MULTIPOLYGON (((121.52259 25.17489, 121.52259 ...</td>\n",
       "      <td>0</td>\n",
       "    </tr>\n",
       "    <tr>\n",
       "      <th>1</th>\n",
       "      <td>6.110781e+07</td>\n",
       "      <td>6301100</td>\n",
       "      <td>臺北市</td>\n",
       "      <td>士林區</td>\n",
       "      <td>臺北市士林區</td>\n",
       "      <td>121.60853</td>\n",
       "      <td>25.19528</td>\n",
       "      <td>121.46145</td>\n",
       "      <td>25.07434</td>\n",
       "      <td>3</td>\n",
       "      <td>MULTIPOLYGON (((121.57354 25.19386, 121.57383 ...</td>\n",
       "      <td>1</td>\n",
       "    </tr>\n",
       "    <tr>\n",
       "      <th>2</th>\n",
       "      <td>3.195183e+07</td>\n",
       "      <td>6301000</td>\n",
       "      <td>臺北市</td>\n",
       "      <td>內湖區</td>\n",
       "      <td>臺北市內湖區</td>\n",
       "      <td>121.62848</td>\n",
       "      <td>25.11483</td>\n",
       "      <td>121.55181</td>\n",
       "      <td>25.05186</td>\n",
       "      <td>2</td>\n",
       "      <td>MULTIPOLYGON (((121.59560 25.11414, 121.59559 ...</td>\n",
       "      <td>2</td>\n",
       "    </tr>\n",
       "    <tr>\n",
       "      <th>6</th>\n",
       "      <td>2.195662e+07</td>\n",
       "      <td>6300900</td>\n",
       "      <td>臺北市</td>\n",
       "      <td>南港區</td>\n",
       "      <td>臺北市南港區</td>\n",
       "      <td>121.66605</td>\n",
       "      <td>25.06432</td>\n",
       "      <td>121.57765</td>\n",
       "      <td>25.01224</td>\n",
       "      <td>1</td>\n",
       "      <td>MULTIPOLYGON (((121.57979 25.05294, 121.57986 ...</td>\n",
       "      <td>3</td>\n",
       "    </tr>\n",
       "    <tr>\n",
       "      <th>5</th>\n",
       "      <td>8.680668e+06</td>\n",
       "      <td>6300100</td>\n",
       "      <td>臺北市</td>\n",
       "      <td>松山區</td>\n",
       "      <td>臺北市松山區</td>\n",
       "      <td>121.58019</td>\n",
       "      <td>25.07587</td>\n",
       "      <td>121.53824</td>\n",
       "      <td>25.04435</td>\n",
       "      <td>2</td>\n",
       "      <td>MULTIPOLYGON (((121.57610 25.04940, 121.57594 ...</td>\n",
       "      <td>4</td>\n",
       "    </tr>\n",
       "  </tbody>\n",
       "</table>\n",
       "</div>"
      ],
      "text/plain": [
       "           AREA  COUN_ID PNAME TNAME  PTNAME      MAX_X     MAX_Y      MIN_X  \\\n",
       "0  5.738380e+07  6301200   臺北市   北投區  臺北市北投區  121.57361  25.21014  121.45871   \n",
       "1  6.110781e+07  6301100   臺北市   士林區  臺北市士林區  121.60853  25.19528  121.46145   \n",
       "2  3.195183e+07  6301000   臺北市   內湖區  臺北市內湖區  121.62848  25.11483  121.55181   \n",
       "6  2.195662e+07  6300900   臺北市   南港區  臺北市南港區  121.66605  25.06432  121.57765   \n",
       "5  8.680668e+06  6300100   臺北市   松山區  臺北市松山區  121.58019  25.07587  121.53824   \n",
       "\n",
       "      MIN_Y  NUMPOINTS                                           geometry  \\\n",
       "0  25.09588          3  MULTIPOLYGON (((121.52259 25.17489, 121.52259 ...   \n",
       "1  25.07434          3  MULTIPOLYGON (((121.57354 25.19386, 121.57383 ...   \n",
       "2  25.05186          2  MULTIPOLYGON (((121.59560 25.11414, 121.59559 ...   \n",
       "6  25.01224          1  MULTIPOLYGON (((121.57979 25.05294, 121.57986 ...   \n",
       "5  25.04435          2  MULTIPOLYGON (((121.57610 25.04940, 121.57594 ...   \n",
       "\n",
       "   sort_idx  \n",
       "0         0  \n",
       "1         1  \n",
       "2         2  \n",
       "6         3  \n",
       "5         4  "
      ]
     },
     "execution_count": 55,
     "metadata": {},
     "output_type": "execute_result"
    }
   ],
   "source": [
    "TP_daycare_town.head(5)"
   ]
  },
  {
   "cell_type": "code",
   "execution_count": 56,
   "id": "f1785cb9",
   "metadata": {},
   "outputs": [],
   "source": [
    "results = {\n",
    "    'data': [\n",
    "        {\n",
    "            'name':'', \n",
    "            'data': [\n",
    "                {\n",
    "                    'x': x, \n",
    "                    'y': y\n",
    "                } \n",
    "                for x, y in zip(\n",
    "                    TP_daycare_town['TNAME'], \n",
    "                    TP_daycare_town['NUMPOINTS']\n",
    "                )\n",
    "            ]\n",
    "        }\n",
    "    ]\n",
    "}"
   ]
  },
  {
   "cell_type": "code",
   "execution_count": 57,
   "id": "d6447122",
   "metadata": {
    "scrolled": true
   },
   "outputs": [
    {
     "data": {
      "text/plain": [
       "{'data': [{'name': '',\n",
       "   'data': [{'x': '北投區', 'y': 3},\n",
       "    {'x': '士林區', 'y': 3},\n",
       "    {'x': '內湖區', 'y': 2},\n",
       "    {'x': '南港區', 'y': 1},\n",
       "    {'x': '松山區', 'y': 2},\n",
       "    {'x': '信義區', 'y': 4},\n",
       "    {'x': '中山區', 'y': 4},\n",
       "    {'x': '大同區', 'y': 1},\n",
       "    {'x': '中正區', 'y': 3},\n",
       "    {'x': '萬華區', 'y': 2},\n",
       "    {'x': '大安區', 'y': 0},\n",
       "    {'x': '文山區', 'y': 2}]}]}"
      ]
     },
     "execution_count": 57,
     "metadata": {},
     "output_type": "execute_result"
    }
   ],
   "source": [
    "results"
   ]
  },
  {
   "cell_type": "code",
   "execution_count": 58,
   "id": "aae9218a",
   "metadata": {},
   "outputs": [],
   "source": [
    "with open('Processed_by_ETL/chart_data/TP_daycare_town.json', \"w\") as json_file:\n",
    "    json.dump(results, json_file, ensure_ascii=False)"
   ]
  },
  {
   "cell_type": "markdown",
   "id": "939f83c8",
   "metadata": {},
   "source": [
    "### Three-Dimensional Data"
   ]
  },
  {
   "cell_type": "code",
   "execution_count": 59,
   "id": "cb89aa55",
   "metadata": {},
   "outputs": [
    {
     "name": "stdout",
     "output_type": "stream",
     "text": [
      "*H* not found, only *ymd*\n"
     ]
    },
    {
     "data": {
      "text/html": [
       "<div>\n",
       "<style scoped>\n",
       "    .dataframe tbody tr th:only-of-type {\n",
       "        vertical-align: middle;\n",
       "    }\n",
       "\n",
       "    .dataframe tbody tr th {\n",
       "        vertical-align: top;\n",
       "    }\n",
       "\n",
       "    .dataframe thead th {\n",
       "        text-align: right;\n",
       "    }\n",
       "</style>\n",
       "<table border=\"1\" class=\"dataframe\">\n",
       "  <thead>\n",
       "    <tr style=\"text-align: right;\">\n",
       "      <th></th>\n",
       "      <th>年份</th>\n",
       "      <th>日間及住宿式照顧補助金額(元)</th>\n",
       "      <th>生活補助金額(元)</th>\n",
       "      <th>輔具補助金額(元)</th>\n",
       "    </tr>\n",
       "  </thead>\n",
       "  <tbody>\n",
       "    <tr>\n",
       "      <th>0</th>\n",
       "      <td>1995-01-01T00:00:00Z</td>\n",
       "      <td>37007518</td>\n",
       "      <td>123629720</td>\n",
       "      <td>67958515</td>\n",
       "    </tr>\n",
       "    <tr>\n",
       "      <th>1</th>\n",
       "      <td>1996-01-01T00:00:00Z</td>\n",
       "      <td>91367929</td>\n",
       "      <td>265961218</td>\n",
       "      <td>59513472</td>\n",
       "    </tr>\n",
       "    <tr>\n",
       "      <th>2</th>\n",
       "      <td>1997-01-01T00:00:00Z</td>\n",
       "      <td>68788296</td>\n",
       "      <td>168770548</td>\n",
       "      <td>63790107</td>\n",
       "    </tr>\n",
       "  </tbody>\n",
       "</table>\n",
       "</div>"
      ],
      "text/plain": [
       "                     年份  日間及住宿式照顧補助金額(元)  生活補助金額(元)  輔具補助金額(元)\n",
       "0  1995-01-01T00:00:00Z         37007518  123629720   67958515\n",
       "1  1996-01-01T00:00:00Z         91367929  265961218   59513472\n",
       "2  1997-01-01T00:00:00Z         68788296  168770548   63790107"
      ]
     },
     "execution_count": 59,
     "metadata": {},
     "output_type": "execute_result"
    }
   ],
   "source": [
    "disability_demand_trend = pd.read_csv(\n",
    "    'Datasets/Processed/無障礙需求歷年趨勢.csv', \n",
    "    thousands=','\n",
    ")\n",
    "\n",
    "disability_demand_trend['年份'] = disability_demand_trend['年份'].str.replace('年', '-01-01')\n",
    "disability_demand_trend['年份'] = Preload().convert_str_to_time_format(\n",
    "    column=disability_demand_trend['年份'], \n",
    "    from_format='y-m-d'\n",
    ")\n",
    "disability_demand_trend['年份'] = disability_demand_trend['年份'].map(\n",
    "    lambda x: x.isoformat()\n",
    ").str.replace('+08:00', 'Z')\n",
    "\n",
    "disability_demand_trend.head(3)"
   ]
  },
  {
   "cell_type": "code",
   "execution_count": 60,
   "id": "2ce03323",
   "metadata": {},
   "outputs": [],
   "source": [
    "cols = list(disability_demand_trend)\n",
    "cols.remove('年份')\n",
    "\n",
    "results = {\n",
    "    'data': [\n",
    "        {\n",
    "            'name': col,\n",
    "            'data': [\n",
    "                {\n",
    "                    'x': x, \n",
    "                    'y': y\n",
    "                } \n",
    "                for x, y in zip(\n",
    "                    disability_demand_trend['年份'], \n",
    "                    disability_demand_trend[col]\n",
    "                )\n",
    "            ]\n",
    "        }\n",
    "        for col in cols\n",
    "    ]\n",
    "}\n",
    "\n",
    "with open('Processed_by_ETL/chart_data/disability_demand_trend.json', \"w\") as json_file:\n",
    "    json.dump(results, json_file, ensure_ascii=False)\n"
   ]
  },
  {
   "cell_type": "code",
   "execution_count": 61,
   "id": "77c88a04",
   "metadata": {
    "scrolled": true
   },
   "outputs": [
    {
     "data": {
      "text/plain": [
       "{'data': [{'name': '日間及住宿式照顧補助金額(元)',\n",
       "   'data': [{'x': '1995-01-01T00:00:00Z', 'y': 37007518},\n",
       "    {'x': '1996-01-01T00:00:00Z', 'y': 91367929},\n",
       "    {'x': '1997-01-01T00:00:00Z', 'y': 68788296},\n",
       "    {'x': '1998-01-01T00:00:00Z', 'y': 174731400},\n",
       "    {'x': '1999-01-01T00:00:00Z', 'y': 158774563},\n",
       "    {'x': '2000-01-01T00:00:00Z', 'y': 405985325},\n",
       "    {'x': '2001-01-01T00:00:00Z', 'y': 613709172},\n",
       "    {'x': '2002-01-01T00:00:00Z', 'y': 683857039},\n",
       "    {'x': '2003-01-01T00:00:00Z', 'y': 732591017},\n",
       "    {'x': '2004-01-01T00:00:00Z', 'y': 596227191},\n",
       "    {'x': '2005-01-01T00:00:00Z', 'y': 567746993},\n",
       "    {'x': '2006-01-01T00:00:00Z', 'y': 575093412},\n",
       "    {'x': '2007-01-01T00:00:00Z', 'y': 530348362},\n",
       "    {'x': '2008-01-01T00:00:00Z', 'y': 629298222},\n",
       "    {'x': '2009-01-01T00:00:00Z', 'y': 677897043},\n",
       "    {'x': '2010-01-01T00:00:00Z', 'y': 745310746},\n",
       "    {'x': '2011-01-01T00:00:00Z', 'y': 885733255},\n",
       "    {'x': '2012-01-01T00:00:00Z', 'y': 965652889},\n",
       "    {'x': '2013-01-01T00:00:00Z', 'y': 1068974334},\n",
       "    {'x': '2014-01-01T00:00:00Z', 'y': 1157684823},\n",
       "    {'x': '2015-01-01T00:00:00Z', 'y': 1208106201},\n",
       "    {'x': '2016-01-01T00:00:00Z', 'y': 1223864793},\n",
       "    {'x': '2017-01-01T00:00:00Z', 'y': 1306917858},\n",
       "    {'x': '2018-01-01T00:00:00Z', 'y': 1317663133},\n",
       "    {'x': '2019-01-01T00:00:00Z', 'y': 1257701052},\n",
       "    {'x': '2020-01-01T00:00:00Z', 'y': 1355874069},\n",
       "    {'x': '2021-01-01T00:00:00Z', 'y': 1345237599},\n",
       "    {'x': '2022-01-01T00:00:00Z', 'y': 1301424240}]},\n",
       "  {'name': '生活補助金額(元)',\n",
       "   'data': [{'x': '1995-01-01T00:00:00Z', 'y': 123629720},\n",
       "    {'x': '1996-01-01T00:00:00Z', 'y': 265961218},\n",
       "    {'x': '1997-01-01T00:00:00Z', 'y': 168770548},\n",
       "    {'x': '1998-01-01T00:00:00Z', 'y': 160737510},\n",
       "    {'x': '1999-01-01T00:00:00Z', 'y': 140545519},\n",
       "    {'x': '2000-01-01T00:00:00Z', 'y': 200025278},\n",
       "    {'x': '2001-01-01T00:00:00Z', 'y': 226988264},\n",
       "    {'x': '2002-01-01T00:00:00Z', 'y': 260783050},\n",
       "    {'x': '2003-01-01T00:00:00Z', 'y': 284047475},\n",
       "    {'x': '2004-01-01T00:00:00Z', 'y': 442101489},\n",
       "    {'x': '2005-01-01T00:00:00Z', 'y': 463121103},\n",
       "    {'x': '2006-01-01T00:00:00Z', 'y': 453011835},\n",
       "    {'x': '2007-01-01T00:00:00Z', 'y': 461378990},\n",
       "    {'x': '2008-01-01T00:00:00Z', 'y': 478890887},\n",
       "    {'x': '2009-01-01T00:00:00Z', 'y': 555969502},\n",
       "    {'x': '2010-01-01T00:00:00Z', 'y': 632296987},\n",
       "    {'x': '2011-01-01T00:00:00Z', 'y': 698782757},\n",
       "    {'x': '2012-01-01T00:00:00Z', 'y': 886671441},\n",
       "    {'x': '2013-01-01T00:00:00Z', 'y': 931870934},\n",
       "    {'x': '2014-01-01T00:00:00Z', 'y': 955890472},\n",
       "    {'x': '2015-01-01T00:00:00Z', 'y': 973132352},\n",
       "    {'x': '2016-01-01T00:00:00Z', 'y': 1015161720},\n",
       "    {'x': '2017-01-01T00:00:00Z', 'y': 1022467570},\n",
       "    {'x': '2018-01-01T00:00:00Z', 'y': 1038353913},\n",
       "    {'x': '2019-01-01T00:00:00Z', 'y': 1064596341},\n",
       "    {'x': '2020-01-01T00:00:00Z', 'y': 1128426662},\n",
       "    {'x': '2021-01-01T00:00:00Z', 'y': 1138270772},\n",
       "    {'x': '2022-01-01T00:00:00Z', 'y': 1125117575}]},\n",
       "  {'name': '輔具補助金額(元)',\n",
       "   'data': [{'x': '1995-01-01T00:00:00Z', 'y': 67958515},\n",
       "    {'x': '1996-01-01T00:00:00Z', 'y': 59513472},\n",
       "    {'x': '1997-01-01T00:00:00Z', 'y': 63790107},\n",
       "    {'x': '1998-01-01T00:00:00Z', 'y': 82575662},\n",
       "    {'x': '1999-01-01T00:00:00Z', 'y': 91165386},\n",
       "    {'x': '2000-01-01T00:00:00Z', 'y': 90801878},\n",
       "    {'x': '2001-01-01T00:00:00Z', 'y': 120072479},\n",
       "    {'x': '2002-01-01T00:00:00Z', 'y': 116029058},\n",
       "    {'x': '2003-01-01T00:00:00Z', 'y': 107883715},\n",
       "    {'x': '2004-01-01T00:00:00Z', 'y': 112397175},\n",
       "    {'x': '2005-01-01T00:00:00Z', 'y': 75756940},\n",
       "    {'x': '2006-01-01T00:00:00Z', 'y': 83586709},\n",
       "    {'x': '2007-01-01T00:00:00Z', 'y': 84546637},\n",
       "    {'x': '2008-01-01T00:00:00Z', 'y': 92571409},\n",
       "    {'x': '2009-01-01T00:00:00Z', 'y': 100592211},\n",
       "    {'x': '2010-01-01T00:00:00Z', 'y': 110030717},\n",
       "    {'x': '2011-01-01T00:00:00Z', 'y': 120503733},\n",
       "    {'x': '2012-01-01T00:00:00Z', 'y': 128348653},\n",
       "    {'x': '2013-01-01T00:00:00Z', 'y': 78267283},\n",
       "    {'x': '2014-01-01T00:00:00Z', 'y': 85451695},\n",
       "    {'x': '2015-01-01T00:00:00Z', 'y': 84549734},\n",
       "    {'x': '2016-01-01T00:00:00Z', 'y': 85613656},\n",
       "    {'x': '2017-01-01T00:00:00Z', 'y': 87374378},\n",
       "    {'x': '2018-01-01T00:00:00Z', 'y': 86944152},\n",
       "    {'x': '2019-01-01T00:00:00Z', 'y': 74646983},\n",
       "    {'x': '2020-01-01T00:00:00Z', 'y': 67300469},\n",
       "    {'x': '2021-01-01T00:00:00Z', 'y': 61302756},\n",
       "    {'x': '2022-01-01T00:00:00Z', 'y': 67322015}]}]}"
      ]
     },
     "execution_count": 61,
     "metadata": {},
     "output_type": "execute_result"
    }
   ],
   "source": [
    "results"
   ]
  },
  {
   "cell_type": "markdown",
   "id": "104212aa",
   "metadata": {},
   "source": [
    "# 實作 - 整理儀表板可用的資料 "
   ]
  },
  {
   "cell_type": "code",
   "execution_count": null,
   "id": "839ea2a4",
   "metadata": {},
   "outputs": [],
   "source": []
  }
 ],
 "metadata": {
  "kernelspec": {
   "display_name": "Python 3 (ipykernel)",
   "language": "python",
   "name": "python3"
  },
  "language_info": {
   "codemirror_mode": {
    "name": "ipython",
    "version": 3
   },
   "file_extension": ".py",
   "mimetype": "text/x-python",
   "name": "python",
   "nbconvert_exporter": "python",
   "pygments_lexer": "ipython3",
   "version": "3.11.4"
  }
 },
 "nbformat": 4,
 "nbformat_minor": 5
}
